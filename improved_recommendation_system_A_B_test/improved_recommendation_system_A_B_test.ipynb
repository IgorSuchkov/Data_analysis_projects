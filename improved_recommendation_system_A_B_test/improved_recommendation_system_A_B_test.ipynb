{
 "cells": [
  {
   "cell_type": "markdown",
   "id": "d879ee4a",
   "metadata": {
    "toc": true
   },
   "source": [
    "<h1>A/B-тестирование<span class=\"tocSkip\"></span></h1>\n",
    "<div class=\"toc\"><ul class=\"toc-item\"><li><span><a href=\"#Обзор\" data-toc-modified-id=\"Обзор-1\"><span class=\"toc-item-num\">1&nbsp;&nbsp;</span>Обзор</a></span></li><li><span><a href=\"#Подготовка-данных\" data-toc-modified-id=\"Подготовка-данных-2\"><span class=\"toc-item-num\">2&nbsp;&nbsp;</span>Подготовка данных</a></span><ul class=\"toc-item\"><li><span><a href=\"#Типы-данных\" data-toc-modified-id=\"Типы-данных-2.1\"><span class=\"toc-item-num\">2.1&nbsp;&nbsp;</span>Типы данных</a></span></li><li><span><a href=\"#Поиск-аномалий\" data-toc-modified-id=\"Поиск-аномалий-2.2\"><span class=\"toc-item-num\">2.2&nbsp;&nbsp;</span>Поиск аномалий</a></span><ul class=\"toc-item\"><li><span><a href=\"#Дубликаты\" data-toc-modified-id=\"Дубликаты-2.2.1\"><span class=\"toc-item-num\">2.2.1&nbsp;&nbsp;</span>Дубликаты</a></span></li><li><span><a href=\"#Пропуски\" data-toc-modified-id=\"Пропуски-2.2.2\"><span class=\"toc-item-num\">2.2.2&nbsp;&nbsp;</span>Пропуски</a></span></li><li><span><a href=\"#Аномалии\" data-toc-modified-id=\"Аномалии-2.2.3\"><span class=\"toc-item-num\">2.2.3&nbsp;&nbsp;</span>Аномалии</a></span></li></ul></li></ul></li><li><span><a href=\"#Оценика-корректности-проведения-теста\" data-toc-modified-id=\"Оценика-корректности-проведения-теста-3\"><span class=\"toc-item-num\">3&nbsp;&nbsp;</span>Оценика корректности проведения теста</a></span><ul class=\"toc-item\"><li><span><a href=\"#Проверка-на-соответствие-техническому-заданию\" data-toc-modified-id=\"Проверка-на-соответствие-техническому-заданию-3.1\"><span class=\"toc-item-num\">3.1&nbsp;&nbsp;</span>Проверка на соответствие техническому заданию</a></span></li><li><span><a href=\"#Время-проведения-теста\" data-toc-modified-id=\"Время-проведения-теста-3.2\"><span class=\"toc-item-num\">3.2&nbsp;&nbsp;</span>Время проведения теста</a></span></li><li><span><a href=\"#Аудитория-теста\" data-toc-modified-id=\"Аудитория-теста-3.3\"><span class=\"toc-item-num\">3.3&nbsp;&nbsp;</span>Аудитория теста</a></span></li></ul></li><li><span><a href=\"#Исследовательский-анализ\" data-toc-modified-id=\"Исследовательский-анализ-4\"><span class=\"toc-item-num\">4&nbsp;&nbsp;</span>Исследовательский анализ</a></span><ul class=\"toc-item\"><li><span><a href=\"#Распределение-по-количеству\" data-toc-modified-id=\"Распределение-по-количеству-4.1\"><span class=\"toc-item-num\">4.1&nbsp;&nbsp;</span>Распределение по количеству</a></span></li><li><span><a href=\"#По-дням\" data-toc-modified-id=\"По-дням-4.2\"><span class=\"toc-item-num\">4.2&nbsp;&nbsp;</span>По дням</a></span></li><li><span><a href=\"#Конверсия\" data-toc-modified-id=\"Конверсия-4.3\"><span class=\"toc-item-num\">4.3&nbsp;&nbsp;</span>Конверсия</a></span></li><li><span><a href=\"#Особенности\" data-toc-modified-id=\"Особенности-4.4\"><span class=\"toc-item-num\">4.4&nbsp;&nbsp;</span>Особенности</a></span></li></ul></li><li><span><a href=\"#Оценка-результата-A/B-тестирования\" data-toc-modified-id=\"Оценка-результата-A/B-тестирования-5\"><span class=\"toc-item-num\">5&nbsp;&nbsp;</span>Оценка результата A/B-тестирования</a></span></li><li><span><a href=\"#Вывод\" data-toc-modified-id=\"Вывод-6\"><span class=\"toc-item-num\">6&nbsp;&nbsp;</span>Вывод</a></span></li></ul></div>"
   ]
  },
  {
   "cell_type": "markdown",
   "id": "411d3bea",
   "metadata": {},
   "source": [
    "**Цель исследования:** Проведение оценки результатов A/B-теста после введения улучшенной программы рекомендаций для региона EU\n",
    "\n"
   ]
  },
  {
   "cell_type": "markdown",
   "id": "51dcae89",
   "metadata": {},
   "source": [
    "**Ход работы:**\n",
    "- Исследование данных\n",
    "- Оцените корректность проведения теста\n",
    "- Проведите исследовательский анализ данны\n",
    "- Оцените результаты A/B-тестирования"
   ]
  },
  {
   "cell_type": "markdown",
   "id": "aa2f9a61",
   "metadata": {},
   "source": [
    "# Обзор"
   ]
  },
  {
   "cell_type": "code",
   "execution_count": 1,
   "id": "bc8cef8a",
   "metadata": {},
   "outputs": [],
   "source": [
    "#Загрука библиотек\n",
    "import pandas as pd\n",
    "from scipy.stats import ttest_ind\n",
    "import warnings\n",
    "warnings.filterwarnings('ignore')\n",
    "import datetime as dt\n",
    "import seaborn as sns\n",
    "import matplotlib.pyplot as plt\n",
    "import numpy as np\n",
    "from plotly import graph_objects as go\n",
    "import scipy.stats as stats"
   ]
  },
  {
   "cell_type": "code",
   "execution_count": 2,
   "id": "d40d15d2",
   "metadata": {},
   "outputs": [],
   "source": [
    "#Загрузка данных\n",
    "try:\n",
    "    marketing_events, events, new_users, participants = (\n",
    "        pd.read_csv('D:\\IT\\python\\yandex\\DA\\poject\\sprint_fin\\sp_fin_ab\\dt_ab_project_marketing_events.csv'),\n",
    "        pd.read_csv('D:\\IT\\python\\yandex\\DA\\poject\\sprint_fin\\sp_fin_ab\\dt_final_ab_events.csv'),\n",
    "        pd.read_csv('D:\\IT\\python\\yandex\\DA\\poject\\sprint_fin\\sp_fin_ab\\dt_final_ab_new_users.csv'),\n",
    "        pd.read_csv('D:\\IT\\python\\yandex\\DA\\poject\\sprint_fin\\sp_fin_ab\\dt_final_ab_participants.csv')\n",
    "    )\n",
    "except:\n",
    "    marketing_events, events, new_users, participants = (\n",
    "        pd.read_csv('/datasets/ab_project_marketing_events.csv'),\n",
    "        pd.read_csv('/datasets/final_ab_events.csv'),\n",
    "        pd.read_csv('/datasets/final_ab_new_users.csv'),\n",
    "        pd.read_csv('/datasets/final_ab_participants.csv')\n",
    "    )"
   ]
  },
  {
   "cell_type": "code",
   "execution_count": 3,
   "id": "7f9cc62f",
   "metadata": {},
   "outputs": [],
   "source": [
    "#функция для обзора данных\n",
    "def review(data):\n",
    "    info = data.info()\n",
    "    return display(data), info"
   ]
  },
  {
   "cell_type": "code",
   "execution_count": 4,
   "id": "0d9d7dc6",
   "metadata": {
    "scrolled": false
   },
   "outputs": [
    {
     "name": "stdout",
     "output_type": "stream",
     "text": [
      "marketing_events \n",
      "\n",
      "<class 'pandas.core.frame.DataFrame'>\n",
      "RangeIndex: 14 entries, 0 to 13\n",
      "Data columns (total 4 columns):\n",
      " #   Column     Non-Null Count  Dtype \n",
      "---  ------     --------------  ----- \n",
      " 0   name       14 non-null     object\n",
      " 1   regions    14 non-null     object\n",
      " 2   start_dt   14 non-null     object\n",
      " 3   finish_dt  14 non-null     object\n",
      "dtypes: object(4)\n",
      "memory usage: 576.0+ bytes\n"
     ]
    },
    {
     "data": {
      "text/html": [
       "<div>\n",
       "<style scoped>\n",
       "    .dataframe tbody tr th:only-of-type {\n",
       "        vertical-align: middle;\n",
       "    }\n",
       "\n",
       "    .dataframe tbody tr th {\n",
       "        vertical-align: top;\n",
       "    }\n",
       "\n",
       "    .dataframe thead th {\n",
       "        text-align: right;\n",
       "    }\n",
       "</style>\n",
       "<table border=\"1\" class=\"dataframe\">\n",
       "  <thead>\n",
       "    <tr style=\"text-align: right;\">\n",
       "      <th></th>\n",
       "      <th>name</th>\n",
       "      <th>regions</th>\n",
       "      <th>start_dt</th>\n",
       "      <th>finish_dt</th>\n",
       "    </tr>\n",
       "  </thead>\n",
       "  <tbody>\n",
       "    <tr>\n",
       "      <th>0</th>\n",
       "      <td>Christmas&amp;New Year Promo</td>\n",
       "      <td>EU, N.America</td>\n",
       "      <td>2020-12-25</td>\n",
       "      <td>2021-01-03</td>\n",
       "    </tr>\n",
       "    <tr>\n",
       "      <th>1</th>\n",
       "      <td>St. Valentine's Day Giveaway</td>\n",
       "      <td>EU, CIS, APAC, N.America</td>\n",
       "      <td>2020-02-14</td>\n",
       "      <td>2020-02-16</td>\n",
       "    </tr>\n",
       "    <tr>\n",
       "      <th>2</th>\n",
       "      <td>St. Patric's Day Promo</td>\n",
       "      <td>EU, N.America</td>\n",
       "      <td>2020-03-17</td>\n",
       "      <td>2020-03-19</td>\n",
       "    </tr>\n",
       "    <tr>\n",
       "      <th>3</th>\n",
       "      <td>Easter Promo</td>\n",
       "      <td>EU, CIS, APAC, N.America</td>\n",
       "      <td>2020-04-12</td>\n",
       "      <td>2020-04-19</td>\n",
       "    </tr>\n",
       "    <tr>\n",
       "      <th>4</th>\n",
       "      <td>4th of July Promo</td>\n",
       "      <td>N.America</td>\n",
       "      <td>2020-07-04</td>\n",
       "      <td>2020-07-11</td>\n",
       "    </tr>\n",
       "    <tr>\n",
       "      <th>5</th>\n",
       "      <td>Black Friday Ads Campaign</td>\n",
       "      <td>EU, CIS, APAC, N.America</td>\n",
       "      <td>2020-11-26</td>\n",
       "      <td>2020-12-01</td>\n",
       "    </tr>\n",
       "    <tr>\n",
       "      <th>6</th>\n",
       "      <td>Chinese New Year Promo</td>\n",
       "      <td>APAC</td>\n",
       "      <td>2020-01-25</td>\n",
       "      <td>2020-02-07</td>\n",
       "    </tr>\n",
       "    <tr>\n",
       "      <th>7</th>\n",
       "      <td>Labor day (May 1st) Ads Campaign</td>\n",
       "      <td>EU, CIS, APAC</td>\n",
       "      <td>2020-05-01</td>\n",
       "      <td>2020-05-03</td>\n",
       "    </tr>\n",
       "    <tr>\n",
       "      <th>8</th>\n",
       "      <td>International Women's Day Promo</td>\n",
       "      <td>EU, CIS, APAC</td>\n",
       "      <td>2020-03-08</td>\n",
       "      <td>2020-03-10</td>\n",
       "    </tr>\n",
       "    <tr>\n",
       "      <th>9</th>\n",
       "      <td>Victory Day CIS (May 9th) Event</td>\n",
       "      <td>CIS</td>\n",
       "      <td>2020-05-09</td>\n",
       "      <td>2020-05-11</td>\n",
       "    </tr>\n",
       "    <tr>\n",
       "      <th>10</th>\n",
       "      <td>CIS New Year Gift Lottery</td>\n",
       "      <td>CIS</td>\n",
       "      <td>2020-12-30</td>\n",
       "      <td>2021-01-07</td>\n",
       "    </tr>\n",
       "    <tr>\n",
       "      <th>11</th>\n",
       "      <td>Dragon Boat Festival Giveaway</td>\n",
       "      <td>APAC</td>\n",
       "      <td>2020-06-25</td>\n",
       "      <td>2020-07-01</td>\n",
       "    </tr>\n",
       "    <tr>\n",
       "      <th>12</th>\n",
       "      <td>Single's Day Gift Promo</td>\n",
       "      <td>APAC</td>\n",
       "      <td>2020-11-11</td>\n",
       "      <td>2020-11-12</td>\n",
       "    </tr>\n",
       "    <tr>\n",
       "      <th>13</th>\n",
       "      <td>Chinese Moon Festival</td>\n",
       "      <td>APAC</td>\n",
       "      <td>2020-10-01</td>\n",
       "      <td>2020-10-07</td>\n",
       "    </tr>\n",
       "  </tbody>\n",
       "</table>\n",
       "</div>"
      ],
      "text/plain": [
       "                                name                   regions    start_dt  \\\n",
       "0           Christmas&New Year Promo             EU, N.America  2020-12-25   \n",
       "1       St. Valentine's Day Giveaway  EU, CIS, APAC, N.America  2020-02-14   \n",
       "2             St. Patric's Day Promo             EU, N.America  2020-03-17   \n",
       "3                       Easter Promo  EU, CIS, APAC, N.America  2020-04-12   \n",
       "4                  4th of July Promo                 N.America  2020-07-04   \n",
       "5          Black Friday Ads Campaign  EU, CIS, APAC, N.America  2020-11-26   \n",
       "6             Chinese New Year Promo                      APAC  2020-01-25   \n",
       "7   Labor day (May 1st) Ads Campaign             EU, CIS, APAC  2020-05-01   \n",
       "8    International Women's Day Promo             EU, CIS, APAC  2020-03-08   \n",
       "9    Victory Day CIS (May 9th) Event                       CIS  2020-05-09   \n",
       "10         CIS New Year Gift Lottery                       CIS  2020-12-30   \n",
       "11     Dragon Boat Festival Giveaway                      APAC  2020-06-25   \n",
       "12           Single's Day Gift Promo                      APAC  2020-11-11   \n",
       "13             Chinese Moon Festival                      APAC  2020-10-01   \n",
       "\n",
       "     finish_dt  \n",
       "0   2021-01-03  \n",
       "1   2020-02-16  \n",
       "2   2020-03-19  \n",
       "3   2020-04-19  \n",
       "4   2020-07-11  \n",
       "5   2020-12-01  \n",
       "6   2020-02-07  \n",
       "7   2020-05-03  \n",
       "8   2020-03-10  \n",
       "9   2020-05-11  \n",
       "10  2021-01-07  \n",
       "11  2020-07-01  \n",
       "12  2020-11-12  \n",
       "13  2020-10-07  "
      ]
     },
     "metadata": {},
     "output_type": "display_data"
    },
    {
     "name": "stdout",
     "output_type": "stream",
     "text": [
      "events \n",
      "\n",
      "<class 'pandas.core.frame.DataFrame'>\n",
      "RangeIndex: 440317 entries, 0 to 440316\n",
      "Data columns (total 4 columns):\n",
      " #   Column      Non-Null Count   Dtype  \n",
      "---  ------      --------------   -----  \n",
      " 0   user_id     440317 non-null  object \n",
      " 1   event_dt    440317 non-null  object \n",
      " 2   event_name  440317 non-null  object \n",
      " 3   details     62740 non-null   float64\n",
      "dtypes: float64(1), object(3)\n",
      "memory usage: 13.4+ MB\n"
     ]
    },
    {
     "data": {
      "text/html": [
       "<div>\n",
       "<style scoped>\n",
       "    .dataframe tbody tr th:only-of-type {\n",
       "        vertical-align: middle;\n",
       "    }\n",
       "\n",
       "    .dataframe tbody tr th {\n",
       "        vertical-align: top;\n",
       "    }\n",
       "\n",
       "    .dataframe thead th {\n",
       "        text-align: right;\n",
       "    }\n",
       "</style>\n",
       "<table border=\"1\" class=\"dataframe\">\n",
       "  <thead>\n",
       "    <tr style=\"text-align: right;\">\n",
       "      <th></th>\n",
       "      <th>user_id</th>\n",
       "      <th>event_dt</th>\n",
       "      <th>event_name</th>\n",
       "      <th>details</th>\n",
       "    </tr>\n",
       "  </thead>\n",
       "  <tbody>\n",
       "    <tr>\n",
       "      <th>0</th>\n",
       "      <td>E1BDDCE0DAFA2679</td>\n",
       "      <td>2020-12-07 20:22:03</td>\n",
       "      <td>purchase</td>\n",
       "      <td>99.99</td>\n",
       "    </tr>\n",
       "    <tr>\n",
       "      <th>1</th>\n",
       "      <td>7B6452F081F49504</td>\n",
       "      <td>2020-12-07 09:22:53</td>\n",
       "      <td>purchase</td>\n",
       "      <td>9.99</td>\n",
       "    </tr>\n",
       "    <tr>\n",
       "      <th>2</th>\n",
       "      <td>9CD9F34546DF254C</td>\n",
       "      <td>2020-12-07 12:59:29</td>\n",
       "      <td>purchase</td>\n",
       "      <td>4.99</td>\n",
       "    </tr>\n",
       "    <tr>\n",
       "      <th>3</th>\n",
       "      <td>96F27A054B191457</td>\n",
       "      <td>2020-12-07 04:02:40</td>\n",
       "      <td>purchase</td>\n",
       "      <td>4.99</td>\n",
       "    </tr>\n",
       "    <tr>\n",
       "      <th>4</th>\n",
       "      <td>1FD7660FDF94CA1F</td>\n",
       "      <td>2020-12-07 10:15:09</td>\n",
       "      <td>purchase</td>\n",
       "      <td>4.99</td>\n",
       "    </tr>\n",
       "    <tr>\n",
       "      <th>...</th>\n",
       "      <td>...</td>\n",
       "      <td>...</td>\n",
       "      <td>...</td>\n",
       "      <td>...</td>\n",
       "    </tr>\n",
       "    <tr>\n",
       "      <th>440312</th>\n",
       "      <td>245E85F65C358E08</td>\n",
       "      <td>2020-12-30 19:35:55</td>\n",
       "      <td>login</td>\n",
       "      <td>NaN</td>\n",
       "    </tr>\n",
       "    <tr>\n",
       "      <th>440313</th>\n",
       "      <td>9385A108F5A0A7A7</td>\n",
       "      <td>2020-12-30 10:54:15</td>\n",
       "      <td>login</td>\n",
       "      <td>NaN</td>\n",
       "    </tr>\n",
       "    <tr>\n",
       "      <th>440314</th>\n",
       "      <td>DB650B7559AC6EAC</td>\n",
       "      <td>2020-12-30 10:59:09</td>\n",
       "      <td>login</td>\n",
       "      <td>NaN</td>\n",
       "    </tr>\n",
       "    <tr>\n",
       "      <th>440315</th>\n",
       "      <td>F80C9BDDEA02E53C</td>\n",
       "      <td>2020-12-30 09:53:39</td>\n",
       "      <td>login</td>\n",
       "      <td>NaN</td>\n",
       "    </tr>\n",
       "    <tr>\n",
       "      <th>440316</th>\n",
       "      <td>7AEC61159B672CC5</td>\n",
       "      <td>2020-12-30 11:36:13</td>\n",
       "      <td>login</td>\n",
       "      <td>NaN</td>\n",
       "    </tr>\n",
       "  </tbody>\n",
       "</table>\n",
       "<p>440317 rows × 4 columns</p>\n",
       "</div>"
      ],
      "text/plain": [
       "                 user_id             event_dt event_name  details\n",
       "0       E1BDDCE0DAFA2679  2020-12-07 20:22:03   purchase    99.99\n",
       "1       7B6452F081F49504  2020-12-07 09:22:53   purchase     9.99\n",
       "2       9CD9F34546DF254C  2020-12-07 12:59:29   purchase     4.99\n",
       "3       96F27A054B191457  2020-12-07 04:02:40   purchase     4.99\n",
       "4       1FD7660FDF94CA1F  2020-12-07 10:15:09   purchase     4.99\n",
       "...                  ...                  ...        ...      ...\n",
       "440312  245E85F65C358E08  2020-12-30 19:35:55      login      NaN\n",
       "440313  9385A108F5A0A7A7  2020-12-30 10:54:15      login      NaN\n",
       "440314  DB650B7559AC6EAC  2020-12-30 10:59:09      login      NaN\n",
       "440315  F80C9BDDEA02E53C  2020-12-30 09:53:39      login      NaN\n",
       "440316  7AEC61159B672CC5  2020-12-30 11:36:13      login      NaN\n",
       "\n",
       "[440317 rows x 4 columns]"
      ]
     },
     "metadata": {},
     "output_type": "display_data"
    },
    {
     "name": "stdout",
     "output_type": "stream",
     "text": [
      "new_users \n",
      "\n",
      "<class 'pandas.core.frame.DataFrame'>\n",
      "RangeIndex: 61733 entries, 0 to 61732\n",
      "Data columns (total 4 columns):\n",
      " #   Column      Non-Null Count  Dtype \n",
      "---  ------      --------------  ----- \n",
      " 0   user_id     61733 non-null  object\n",
      " 1   first_date  61733 non-null  object\n",
      " 2   region      61733 non-null  object\n",
      " 3   device      61733 non-null  object\n",
      "dtypes: object(4)\n",
      "memory usage: 1.9+ MB\n"
     ]
    },
    {
     "data": {
      "text/html": [
       "<div>\n",
       "<style scoped>\n",
       "    .dataframe tbody tr th:only-of-type {\n",
       "        vertical-align: middle;\n",
       "    }\n",
       "\n",
       "    .dataframe tbody tr th {\n",
       "        vertical-align: top;\n",
       "    }\n",
       "\n",
       "    .dataframe thead th {\n",
       "        text-align: right;\n",
       "    }\n",
       "</style>\n",
       "<table border=\"1\" class=\"dataframe\">\n",
       "  <thead>\n",
       "    <tr style=\"text-align: right;\">\n",
       "      <th></th>\n",
       "      <th>user_id</th>\n",
       "      <th>first_date</th>\n",
       "      <th>region</th>\n",
       "      <th>device</th>\n",
       "    </tr>\n",
       "  </thead>\n",
       "  <tbody>\n",
       "    <tr>\n",
       "      <th>0</th>\n",
       "      <td>D72A72121175D8BE</td>\n",
       "      <td>2020-12-07</td>\n",
       "      <td>EU</td>\n",
       "      <td>PC</td>\n",
       "    </tr>\n",
       "    <tr>\n",
       "      <th>1</th>\n",
       "      <td>F1C668619DFE6E65</td>\n",
       "      <td>2020-12-07</td>\n",
       "      <td>N.America</td>\n",
       "      <td>Android</td>\n",
       "    </tr>\n",
       "    <tr>\n",
       "      <th>2</th>\n",
       "      <td>2E1BF1D4C37EA01F</td>\n",
       "      <td>2020-12-07</td>\n",
       "      <td>EU</td>\n",
       "      <td>PC</td>\n",
       "    </tr>\n",
       "    <tr>\n",
       "      <th>3</th>\n",
       "      <td>50734A22C0C63768</td>\n",
       "      <td>2020-12-07</td>\n",
       "      <td>EU</td>\n",
       "      <td>iPhone</td>\n",
       "    </tr>\n",
       "    <tr>\n",
       "      <th>4</th>\n",
       "      <td>E1BDDCE0DAFA2679</td>\n",
       "      <td>2020-12-07</td>\n",
       "      <td>N.America</td>\n",
       "      <td>iPhone</td>\n",
       "    </tr>\n",
       "    <tr>\n",
       "      <th>...</th>\n",
       "      <td>...</td>\n",
       "      <td>...</td>\n",
       "      <td>...</td>\n",
       "      <td>...</td>\n",
       "    </tr>\n",
       "    <tr>\n",
       "      <th>61728</th>\n",
       "      <td>1DB53B933257165D</td>\n",
       "      <td>2020-12-20</td>\n",
       "      <td>EU</td>\n",
       "      <td>Android</td>\n",
       "    </tr>\n",
       "    <tr>\n",
       "      <th>61729</th>\n",
       "      <td>538643EB4527ED03</td>\n",
       "      <td>2020-12-20</td>\n",
       "      <td>EU</td>\n",
       "      <td>Mac</td>\n",
       "    </tr>\n",
       "    <tr>\n",
       "      <th>61730</th>\n",
       "      <td>7ADEE837D5D8CBBD</td>\n",
       "      <td>2020-12-20</td>\n",
       "      <td>EU</td>\n",
       "      <td>PC</td>\n",
       "    </tr>\n",
       "    <tr>\n",
       "      <th>61731</th>\n",
       "      <td>1C7D23927835213F</td>\n",
       "      <td>2020-12-20</td>\n",
       "      <td>EU</td>\n",
       "      <td>iPhone</td>\n",
       "    </tr>\n",
       "    <tr>\n",
       "      <th>61732</th>\n",
       "      <td>8F04273BB2860229</td>\n",
       "      <td>2020-12-20</td>\n",
       "      <td>EU</td>\n",
       "      <td>Android</td>\n",
       "    </tr>\n",
       "  </tbody>\n",
       "</table>\n",
       "<p>61733 rows × 4 columns</p>\n",
       "</div>"
      ],
      "text/plain": [
       "                user_id  first_date     region   device\n",
       "0      D72A72121175D8BE  2020-12-07         EU       PC\n",
       "1      F1C668619DFE6E65  2020-12-07  N.America  Android\n",
       "2      2E1BF1D4C37EA01F  2020-12-07         EU       PC\n",
       "3      50734A22C0C63768  2020-12-07         EU   iPhone\n",
       "4      E1BDDCE0DAFA2679  2020-12-07  N.America   iPhone\n",
       "...                 ...         ...        ...      ...\n",
       "61728  1DB53B933257165D  2020-12-20         EU  Android\n",
       "61729  538643EB4527ED03  2020-12-20         EU      Mac\n",
       "61730  7ADEE837D5D8CBBD  2020-12-20         EU       PC\n",
       "61731  1C7D23927835213F  2020-12-20         EU   iPhone\n",
       "61732  8F04273BB2860229  2020-12-20         EU  Android\n",
       "\n",
       "[61733 rows x 4 columns]"
      ]
     },
     "metadata": {},
     "output_type": "display_data"
    },
    {
     "name": "stdout",
     "output_type": "stream",
     "text": [
      "participants \n",
      "\n",
      "<class 'pandas.core.frame.DataFrame'>\n",
      "RangeIndex: 18268 entries, 0 to 18267\n",
      "Data columns (total 3 columns):\n",
      " #   Column   Non-Null Count  Dtype \n",
      "---  ------   --------------  ----- \n",
      " 0   user_id  18268 non-null  object\n",
      " 1   group    18268 non-null  object\n",
      " 2   ab_test  18268 non-null  object\n",
      "dtypes: object(3)\n",
      "memory usage: 428.3+ KB\n"
     ]
    },
    {
     "data": {
      "text/html": [
       "<div>\n",
       "<style scoped>\n",
       "    .dataframe tbody tr th:only-of-type {\n",
       "        vertical-align: middle;\n",
       "    }\n",
       "\n",
       "    .dataframe tbody tr th {\n",
       "        vertical-align: top;\n",
       "    }\n",
       "\n",
       "    .dataframe thead th {\n",
       "        text-align: right;\n",
       "    }\n",
       "</style>\n",
       "<table border=\"1\" class=\"dataframe\">\n",
       "  <thead>\n",
       "    <tr style=\"text-align: right;\">\n",
       "      <th></th>\n",
       "      <th>user_id</th>\n",
       "      <th>group</th>\n",
       "      <th>ab_test</th>\n",
       "    </tr>\n",
       "  </thead>\n",
       "  <tbody>\n",
       "    <tr>\n",
       "      <th>0</th>\n",
       "      <td>D1ABA3E2887B6A73</td>\n",
       "      <td>A</td>\n",
       "      <td>recommender_system_test</td>\n",
       "    </tr>\n",
       "    <tr>\n",
       "      <th>1</th>\n",
       "      <td>A7A3664BD6242119</td>\n",
       "      <td>A</td>\n",
       "      <td>recommender_system_test</td>\n",
       "    </tr>\n",
       "    <tr>\n",
       "      <th>2</th>\n",
       "      <td>DABC14FDDFADD29E</td>\n",
       "      <td>A</td>\n",
       "      <td>recommender_system_test</td>\n",
       "    </tr>\n",
       "    <tr>\n",
       "      <th>3</th>\n",
       "      <td>04988C5DF189632E</td>\n",
       "      <td>A</td>\n",
       "      <td>recommender_system_test</td>\n",
       "    </tr>\n",
       "    <tr>\n",
       "      <th>4</th>\n",
       "      <td>482F14783456D21B</td>\n",
       "      <td>B</td>\n",
       "      <td>recommender_system_test</td>\n",
       "    </tr>\n",
       "    <tr>\n",
       "      <th>...</th>\n",
       "      <td>...</td>\n",
       "      <td>...</td>\n",
       "      <td>...</td>\n",
       "    </tr>\n",
       "    <tr>\n",
       "      <th>18263</th>\n",
       "      <td>1D302F8688B91781</td>\n",
       "      <td>B</td>\n",
       "      <td>interface_eu_test</td>\n",
       "    </tr>\n",
       "    <tr>\n",
       "      <th>18264</th>\n",
       "      <td>3DE51B726983B657</td>\n",
       "      <td>A</td>\n",
       "      <td>interface_eu_test</td>\n",
       "    </tr>\n",
       "    <tr>\n",
       "      <th>18265</th>\n",
       "      <td>F501F79D332BE86C</td>\n",
       "      <td>A</td>\n",
       "      <td>interface_eu_test</td>\n",
       "    </tr>\n",
       "    <tr>\n",
       "      <th>18266</th>\n",
       "      <td>63FBE257B05F2245</td>\n",
       "      <td>A</td>\n",
       "      <td>interface_eu_test</td>\n",
       "    </tr>\n",
       "    <tr>\n",
       "      <th>18267</th>\n",
       "      <td>79F9ABFB029CF724</td>\n",
       "      <td>B</td>\n",
       "      <td>interface_eu_test</td>\n",
       "    </tr>\n",
       "  </tbody>\n",
       "</table>\n",
       "<p>18268 rows × 3 columns</p>\n",
       "</div>"
      ],
      "text/plain": [
       "                user_id group                  ab_test\n",
       "0      D1ABA3E2887B6A73     A  recommender_system_test\n",
       "1      A7A3664BD6242119     A  recommender_system_test\n",
       "2      DABC14FDDFADD29E     A  recommender_system_test\n",
       "3      04988C5DF189632E     A  recommender_system_test\n",
       "4      482F14783456D21B     B  recommender_system_test\n",
       "...                 ...   ...                      ...\n",
       "18263  1D302F8688B91781     B        interface_eu_test\n",
       "18264  3DE51B726983B657     A        interface_eu_test\n",
       "18265  F501F79D332BE86C     A        interface_eu_test\n",
       "18266  63FBE257B05F2245     A        interface_eu_test\n",
       "18267  79F9ABFB029CF724     B        interface_eu_test\n",
       "\n",
       "[18268 rows x 3 columns]"
      ]
     },
     "metadata": {},
     "output_type": "display_data"
    }
   ],
   "source": [
    "datas = [marketing_events, events, new_users, participants]\n",
    "title = ['marketing_events', 'events', 'new_users', 'participants']\n",
    "\n",
    "for i, t in zip(datas, title):\n",
    "    print(t, '\\n')\n",
    "    review(i)"
   ]
  },
  {
   "cell_type": "markdown",
   "id": "8d287628",
   "metadata": {},
   "source": [
    "В ходе обзора данных было выявлено:\n",
    "\n",
    "marketing_events - тип данные в столбцах start_dt, finish_dt надо поправить.\n",
    "\n",
    "events - в столбце details много пропусков. Также у столбца event_dt нужно будет скорректировать тип.\n",
    "\n",
    "new_users - в столбце first_date - неправильный тип."
   ]
  },
  {
   "cell_type": "markdown",
   "id": "0a71946a",
   "metadata": {},
   "source": [
    "# Подготовка данных"
   ]
  },
  {
   "cell_type": "markdown",
   "id": "1c6ceec0",
   "metadata": {},
   "source": [
    "## Типы данных"
   ]
  },
  {
   "cell_type": "markdown",
   "id": "6b4d7796",
   "metadata": {},
   "source": [
    "Для начала скорректируем типы данных."
   ]
  },
  {
   "cell_type": "markdown",
   "id": "3d598ab5",
   "metadata": {},
   "source": [
    "Преобразовываем данные тип datetime."
   ]
  },
  {
   "cell_type": "code",
   "execution_count": 5,
   "id": "21a77595",
   "metadata": {},
   "outputs": [],
   "source": [
    "marketing_events['start_dt'] = pd.to_datetime(marketing_events['start_dt'], format = '%Y-%m-%d')\n",
    "marketing_events['finish_dt'] = pd.to_datetime(marketing_events['finish_dt'], format = '%Y-%m-%d')\n",
    "new_users['first_date'] = pd.to_datetime(new_users['first_date'], format = '%Y-%m-%d')\n",
    "events['event_dt'] = pd.to_datetime(events['event_dt'], format = '%Y-%m-%d %H:%M:%S')"
   ]
  },
  {
   "cell_type": "code",
   "execution_count": 6,
   "id": "d2dc3d0c",
   "metadata": {},
   "outputs": [
    {
     "name": "stdout",
     "output_type": "stream",
     "text": [
      "marketing_events \n",
      "\n",
      "<class 'pandas.core.frame.DataFrame'>\n",
      "RangeIndex: 14 entries, 0 to 13\n",
      "Data columns (total 4 columns):\n",
      " #   Column     Non-Null Count  Dtype         \n",
      "---  ------     --------------  -----         \n",
      " 0   name       14 non-null     object        \n",
      " 1   regions    14 non-null     object        \n",
      " 2   start_dt   14 non-null     datetime64[ns]\n",
      " 3   finish_dt  14 non-null     datetime64[ns]\n",
      "dtypes: datetime64[ns](2), object(2)\n",
      "memory usage: 576.0+ bytes\n",
      "None \n",
      "\n",
      "events \n",
      "\n",
      "<class 'pandas.core.frame.DataFrame'>\n",
      "RangeIndex: 440317 entries, 0 to 440316\n",
      "Data columns (total 4 columns):\n",
      " #   Column      Non-Null Count   Dtype         \n",
      "---  ------      --------------   -----         \n",
      " 0   user_id     440317 non-null  object        \n",
      " 1   event_dt    440317 non-null  datetime64[ns]\n",
      " 2   event_name  440317 non-null  object        \n",
      " 3   details     62740 non-null   float64       \n",
      "dtypes: datetime64[ns](1), float64(1), object(2)\n",
      "memory usage: 13.4+ MB\n",
      "None \n",
      "\n",
      "new_users \n",
      "\n",
      "<class 'pandas.core.frame.DataFrame'>\n",
      "RangeIndex: 61733 entries, 0 to 61732\n",
      "Data columns (total 4 columns):\n",
      " #   Column      Non-Null Count  Dtype         \n",
      "---  ------      --------------  -----         \n",
      " 0   user_id     61733 non-null  object        \n",
      " 1   first_date  61733 non-null  datetime64[ns]\n",
      " 2   region      61733 non-null  object        \n",
      " 3   device      61733 non-null  object        \n",
      "dtypes: datetime64[ns](1), object(3)\n",
      "memory usage: 1.9+ MB\n",
      "None \n",
      "\n",
      "participants \n",
      "\n",
      "<class 'pandas.core.frame.DataFrame'>\n",
      "RangeIndex: 18268 entries, 0 to 18267\n",
      "Data columns (total 3 columns):\n",
      " #   Column   Non-Null Count  Dtype \n",
      "---  ------   --------------  ----- \n",
      " 0   user_id  18268 non-null  object\n",
      " 1   group    18268 non-null  object\n",
      " 2   ab_test  18268 non-null  object\n",
      "dtypes: object(3)\n",
      "memory usage: 428.3+ KB\n",
      "None \n",
      "\n"
     ]
    }
   ],
   "source": [
    "for i, t in zip(datas, title):\n",
    "    print(t, '\\n')\n",
    "    print(i.info(), '\\n')"
   ]
  },
  {
   "cell_type": "markdown",
   "id": "f06fc5c2",
   "metadata": {},
   "source": [
    "Теперь типы данных в порядке."
   ]
  },
  {
   "cell_type": "markdown",
   "id": "e0391731",
   "metadata": {},
   "source": [
    "## Поиск аномалий"
   ]
  },
  {
   "cell_type": "markdown",
   "id": "a3737298",
   "metadata": {},
   "source": [
    "### Дубликаты"
   ]
  },
  {
   "cell_type": "markdown",
   "id": "9bae7785",
   "metadata": {},
   "source": [
    "Приводим данные столбцов к нижнему регистру."
   ]
  },
  {
   "cell_type": "code",
   "execution_count": 7,
   "id": "f5593c63",
   "metadata": {},
   "outputs": [],
   "source": [
    "#Передибарем столбцы с названиями и приводим к нижему регистру\n",
    "for d in datas:\n",
    "    for n, i in enumerate(d.dtypes):\n",
    "        if i == object:\n",
    "            d.iloc[:, n] = d.iloc[:, n].str.lower()"
   ]
  },
  {
   "cell_type": "markdown",
   "id": "bddcf3cc",
   "metadata": {},
   "source": [
    "Выполним поиск явных дубликатов."
   ]
  },
  {
   "cell_type": "code",
   "execution_count": 8,
   "id": "a40d1ac3",
   "metadata": {},
   "outputs": [
    {
     "name": "stdout",
     "output_type": "stream",
     "text": [
      "marketing_events Количество явных дубликатов: 0\n",
      "events Количество явных дубликатов: 0\n",
      "new_users Количество явных дубликатов: 0\n",
      "participants Количество явных дубликатов: 0\n"
     ]
    }
   ],
   "source": [
    "#Поиск дубликатов\n",
    "for i, t in zip(datas, title):\n",
    "    print(t, 'Количество явных дубликатов:',d.duplicated().sum())"
   ]
  },
  {
   "cell_type": "markdown",
   "id": "d4e73f56",
   "metadata": {},
   "source": [
    "Ищем дубликаты по ключевым столбцам."
   ]
  },
  {
   "cell_type": "markdown",
   "id": "e1f6c2be",
   "metadata": {},
   "source": [
    "Начнем с marketing_events . Столбец name должен содержать уникальные значения."
   ]
  },
  {
   "cell_type": "code",
   "execution_count": 9,
   "id": "8d75ec4c",
   "metadata": {},
   "outputs": [
    {
     "name": "stdout",
     "output_type": "stream",
     "text": [
      "Количество дубликатов в столбце userid: 0\n"
     ]
    }
   ],
   "source": [
    "print('Количество дубликатов в столбце userid:', marketing_events.duplicated(subset=['name']).sum())"
   ]
  },
  {
   "cell_type": "markdown",
   "id": "99ab8b4b",
   "metadata": {},
   "source": [
    "events - столбец user_id, event_dt, event_name должен содержать уникальные значения."
   ]
  },
  {
   "cell_type": "code",
   "execution_count": 10,
   "id": "bd9396dd",
   "metadata": {},
   "outputs": [
    {
     "name": "stdout",
     "output_type": "stream",
     "text": [
      "Количество дубликатов в столбце userid: 0\n"
     ]
    }
   ],
   "source": [
    "print('Количество дубликатов в столбце userid:', events.duplicated(subset=['user_id','event_dt', 'event_name']).sum())"
   ]
  },
  {
   "cell_type": "markdown",
   "id": "1d3cb931",
   "metadata": {},
   "source": [
    "new_users - user_id должен содержать уникальные идентификаторы."
   ]
  },
  {
   "cell_type": "code",
   "execution_count": 11,
   "id": "83843434",
   "metadata": {},
   "outputs": [
    {
     "name": "stdout",
     "output_type": "stream",
     "text": [
      "Количество дубликатов в столбце userid: 0\n"
     ]
    }
   ],
   "source": [
    "print('Количество дубликатов в столбце userid:', new_users.duplicated(subset=['user_id']).sum())"
   ]
  },
  {
   "cell_type": "markdown",
   "id": "e0d4a497",
   "metadata": {},
   "source": [
    "participants - столбецы user_id и ab_test должены содержать уникальные идентификаторы."
   ]
  },
  {
   "cell_type": "code",
   "execution_count": 12,
   "id": "1ed5ac65",
   "metadata": {},
   "outputs": [
    {
     "name": "stdout",
     "output_type": "stream",
     "text": [
      "Количество дубликатов в столбце userid: 0\n"
     ]
    }
   ],
   "source": [
    "print('Количество дубликатов в столбце userid:', participants.duplicated(subset=['user_id', 'ab_test']).sum())"
   ]
  },
  {
   "cell_type": "markdown",
   "id": "b273cdf1",
   "metadata": {},
   "source": [
    "Дубликатов необнаруженно."
   ]
  },
  {
   "cell_type": "markdown",
   "id": "100db8bd",
   "metadata": {},
   "source": [
    "### Пропуски"
   ]
  },
  {
   "cell_type": "markdown",
   "id": "26cc0303",
   "metadata": {},
   "source": [
    "Мы знаем, что пропуски есть только в events. Посмотрим на количество пропусков."
   ]
  },
  {
   "cell_type": "code",
   "execution_count": 13,
   "id": "c104c78b",
   "metadata": {},
   "outputs": [
    {
     "data": {
      "text/plain": [
       "details       377577\n",
       "user_id            0\n",
       "event_dt           0\n",
       "event_name         0\n",
       "dtype: int64"
      ]
     },
     "execution_count": 13,
     "metadata": {},
     "output_type": "execute_result"
    }
   ],
   "source": [
    "events.isna().sum().sort_values(ascending=False)"
   ]
  },
  {
   "cell_type": "code",
   "execution_count": 14,
   "id": "b1e63c86",
   "metadata": {},
   "outputs": [
    {
     "data": {
      "text/plain": [
       "details       85.8\n",
       "user_id        0.0\n",
       "event_dt       0.0\n",
       "event_name     0.0\n",
       "dtype: float64"
      ]
     },
     "execution_count": 14,
     "metadata": {},
     "output_type": "execute_result"
    }
   ],
   "source": [
    "round(events.isna().sum().sort_values(ascending=False) / events.shape[0] * 100, 1)"
   ]
  },
  {
   "cell_type": "markdown",
   "id": "1bfb884a",
   "metadata": {},
   "source": [
    "Подавляющее большинство значений в столбце details являются пропусками. Поищем причины."
   ]
  },
  {
   "cell_type": "code",
   "execution_count": 15,
   "id": "0f713bac",
   "metadata": {},
   "outputs": [
    {
     "data": {
      "text/html": [
       "<div>\n",
       "<style scoped>\n",
       "    .dataframe tbody tr th:only-of-type {\n",
       "        vertical-align: middle;\n",
       "    }\n",
       "\n",
       "    .dataframe tbody tr th {\n",
       "        vertical-align: top;\n",
       "    }\n",
       "\n",
       "    .dataframe thead th {\n",
       "        text-align: right;\n",
       "    }\n",
       "</style>\n",
       "<table border=\"1\" class=\"dataframe\">\n",
       "  <thead>\n",
       "    <tr style=\"text-align: right;\">\n",
       "      <th></th>\n",
       "      <th>user_id</th>\n",
       "      <th>event_dt</th>\n",
       "      <th>event_name</th>\n",
       "      <th>details</th>\n",
       "    </tr>\n",
       "  </thead>\n",
       "  <tbody>\n",
       "    <tr>\n",
       "      <th>62740</th>\n",
       "      <td>2e1bf1d4c37ea01f</td>\n",
       "      <td>2020-12-07 09:05:47</td>\n",
       "      <td>product_cart</td>\n",
       "      <td>NaN</td>\n",
       "    </tr>\n",
       "    <tr>\n",
       "      <th>62741</th>\n",
       "      <td>50734a22c0c63768</td>\n",
       "      <td>2020-12-07 13:24:03</td>\n",
       "      <td>product_cart</td>\n",
       "      <td>NaN</td>\n",
       "    </tr>\n",
       "    <tr>\n",
       "      <th>62742</th>\n",
       "      <td>5eb159da9dc94dba</td>\n",
       "      <td>2020-12-07 22:54:02</td>\n",
       "      <td>product_cart</td>\n",
       "      <td>NaN</td>\n",
       "    </tr>\n",
       "    <tr>\n",
       "      <th>62743</th>\n",
       "      <td>084a22b980ba8169</td>\n",
       "      <td>2020-12-07 15:25:55</td>\n",
       "      <td>product_cart</td>\n",
       "      <td>NaN</td>\n",
       "    </tr>\n",
       "    <tr>\n",
       "      <th>62744</th>\n",
       "      <td>0fc21e6f8faa8dec</td>\n",
       "      <td>2020-12-07 06:56:27</td>\n",
       "      <td>product_cart</td>\n",
       "      <td>NaN</td>\n",
       "    </tr>\n",
       "    <tr>\n",
       "      <th>...</th>\n",
       "      <td>...</td>\n",
       "      <td>...</td>\n",
       "      <td>...</td>\n",
       "      <td>...</td>\n",
       "    </tr>\n",
       "    <tr>\n",
       "      <th>440312</th>\n",
       "      <td>245e85f65c358e08</td>\n",
       "      <td>2020-12-30 19:35:55</td>\n",
       "      <td>login</td>\n",
       "      <td>NaN</td>\n",
       "    </tr>\n",
       "    <tr>\n",
       "      <th>440313</th>\n",
       "      <td>9385a108f5a0a7a7</td>\n",
       "      <td>2020-12-30 10:54:15</td>\n",
       "      <td>login</td>\n",
       "      <td>NaN</td>\n",
       "    </tr>\n",
       "    <tr>\n",
       "      <th>440314</th>\n",
       "      <td>db650b7559ac6eac</td>\n",
       "      <td>2020-12-30 10:59:09</td>\n",
       "      <td>login</td>\n",
       "      <td>NaN</td>\n",
       "    </tr>\n",
       "    <tr>\n",
       "      <th>440315</th>\n",
       "      <td>f80c9bddea02e53c</td>\n",
       "      <td>2020-12-30 09:53:39</td>\n",
       "      <td>login</td>\n",
       "      <td>NaN</td>\n",
       "    </tr>\n",
       "    <tr>\n",
       "      <th>440316</th>\n",
       "      <td>7aec61159b672cc5</td>\n",
       "      <td>2020-12-30 11:36:13</td>\n",
       "      <td>login</td>\n",
       "      <td>NaN</td>\n",
       "    </tr>\n",
       "  </tbody>\n",
       "</table>\n",
       "<p>377577 rows × 4 columns</p>\n",
       "</div>"
      ],
      "text/plain": [
       "                 user_id            event_dt    event_name  details\n",
       "62740   2e1bf1d4c37ea01f 2020-12-07 09:05:47  product_cart      NaN\n",
       "62741   50734a22c0c63768 2020-12-07 13:24:03  product_cart      NaN\n",
       "62742   5eb159da9dc94dba 2020-12-07 22:54:02  product_cart      NaN\n",
       "62743   084a22b980ba8169 2020-12-07 15:25:55  product_cart      NaN\n",
       "62744   0fc21e6f8faa8dec 2020-12-07 06:56:27  product_cart      NaN\n",
       "...                  ...                 ...           ...      ...\n",
       "440312  245e85f65c358e08 2020-12-30 19:35:55         login      NaN\n",
       "440313  9385a108f5a0a7a7 2020-12-30 10:54:15         login      NaN\n",
       "440314  db650b7559ac6eac 2020-12-30 10:59:09         login      NaN\n",
       "440315  f80c9bddea02e53c 2020-12-30 09:53:39         login      NaN\n",
       "440316  7aec61159b672cc5 2020-12-30 11:36:13         login      NaN\n",
       "\n",
       "[377577 rows x 4 columns]"
      ]
     },
     "execution_count": 15,
     "metadata": {},
     "output_type": "execute_result"
    }
   ],
   "source": [
    "events[events.details.isna() == True]"
   ]
  },
  {
   "cell_type": "markdown",
   "id": "fc33f1be",
   "metadata": {},
   "source": [
    "посмотрим на уникалтные значения столбца event_name с пропуск и без в столбце details."
   ]
  },
  {
   "cell_type": "code",
   "execution_count": 16,
   "id": "0b444a32",
   "metadata": {},
   "outputs": [
    {
     "data": {
      "text/plain": [
       "array(['purchase', 'product_cart', 'product_page', 'login'], dtype=object)"
      ]
     },
     "execution_count": 16,
     "metadata": {},
     "output_type": "execute_result"
    }
   ],
   "source": [
    "events.event_name.unique()"
   ]
  },
  {
   "cell_type": "code",
   "execution_count": 17,
   "id": "b4bb0023",
   "metadata": {},
   "outputs": [
    {
     "data": {
      "text/plain": [
       "array(['product_cart', 'product_page', 'login'], dtype=object)"
      ]
     },
     "execution_count": 17,
     "metadata": {},
     "output_type": "execute_result"
    }
   ],
   "source": [
    "events[events.details.isna() == True].event_name.unique()"
   ]
  },
  {
   "cell_type": "markdown",
   "id": "25e7014d",
   "metadata": {},
   "source": [
    "Записи есть в столбце details только у события покупки, тут все понятно. У остальных событий не предусмтренное какое-то автоматическое заполниение пропусков, поэтому там пропуски. Заполнить пропуски смысла, так как ценной информации в них нет, да и могут исказить данные."
   ]
  },
  {
   "cell_type": "markdown",
   "id": "24499577",
   "metadata": {},
   "source": [
    "### Аномалии"
   ]
  },
  {
   "cell_type": "code",
   "execution_count": 18,
   "id": "12779505",
   "metadata": {},
   "outputs": [
    {
     "name": "stdout",
     "output_type": "stream",
     "text": [
      "marketing_events\n"
     ]
    },
    {
     "data": {
      "text/html": [
       "<div>\n",
       "<style scoped>\n",
       "    .dataframe tbody tr th:only-of-type {\n",
       "        vertical-align: middle;\n",
       "    }\n",
       "\n",
       "    .dataframe tbody tr th {\n",
       "        vertical-align: top;\n",
       "    }\n",
       "\n",
       "    .dataframe thead th {\n",
       "        text-align: right;\n",
       "    }\n",
       "</style>\n",
       "<table border=\"1\" class=\"dataframe\">\n",
       "  <thead>\n",
       "    <tr style=\"text-align: right;\">\n",
       "      <th></th>\n",
       "      <th>name</th>\n",
       "      <th>regions</th>\n",
       "      <th>start_dt</th>\n",
       "      <th>finish_dt</th>\n",
       "    </tr>\n",
       "  </thead>\n",
       "  <tbody>\n",
       "    <tr>\n",
       "      <th>count</th>\n",
       "      <td>14</td>\n",
       "      <td>14</td>\n",
       "      <td>14</td>\n",
       "      <td>14</td>\n",
       "    </tr>\n",
       "    <tr>\n",
       "      <th>unique</th>\n",
       "      <td>14</td>\n",
       "      <td>6</td>\n",
       "      <td>14</td>\n",
       "      <td>14</td>\n",
       "    </tr>\n",
       "    <tr>\n",
       "      <th>top</th>\n",
       "      <td>international women's day promo</td>\n",
       "      <td>apac</td>\n",
       "      <td>2020-07-04 00:00:00</td>\n",
       "      <td>2020-03-10 00:00:00</td>\n",
       "    </tr>\n",
       "    <tr>\n",
       "      <th>freq</th>\n",
       "      <td>1</td>\n",
       "      <td>4</td>\n",
       "      <td>1</td>\n",
       "      <td>1</td>\n",
       "    </tr>\n",
       "    <tr>\n",
       "      <th>first</th>\n",
       "      <td>NaN</td>\n",
       "      <td>NaN</td>\n",
       "      <td>2020-01-25 00:00:00</td>\n",
       "      <td>2020-02-07 00:00:00</td>\n",
       "    </tr>\n",
       "    <tr>\n",
       "      <th>last</th>\n",
       "      <td>NaN</td>\n",
       "      <td>NaN</td>\n",
       "      <td>2020-12-30 00:00:00</td>\n",
       "      <td>2021-01-07 00:00:00</td>\n",
       "    </tr>\n",
       "  </tbody>\n",
       "</table>\n",
       "</div>"
      ],
      "text/plain": [
       "                                   name regions             start_dt  \\\n",
       "count                                14      14                   14   \n",
       "unique                               14       6                   14   \n",
       "top     international women's day promo    apac  2020-07-04 00:00:00   \n",
       "freq                                  1       4                    1   \n",
       "first                               NaN     NaN  2020-01-25 00:00:00   \n",
       "last                                NaN     NaN  2020-12-30 00:00:00   \n",
       "\n",
       "                  finish_dt  \n",
       "count                    14  \n",
       "unique                   14  \n",
       "top     2020-03-10 00:00:00  \n",
       "freq                      1  \n",
       "first   2020-02-07 00:00:00  \n",
       "last    2021-01-07 00:00:00  "
      ]
     },
     "metadata": {},
     "output_type": "display_data"
    },
    {
     "name": "stdout",
     "output_type": "stream",
     "text": [
      "events\n"
     ]
    },
    {
     "data": {
      "text/html": [
       "<div>\n",
       "<style scoped>\n",
       "    .dataframe tbody tr th:only-of-type {\n",
       "        vertical-align: middle;\n",
       "    }\n",
       "\n",
       "    .dataframe tbody tr th {\n",
       "        vertical-align: top;\n",
       "    }\n",
       "\n",
       "    .dataframe thead th {\n",
       "        text-align: right;\n",
       "    }\n",
       "</style>\n",
       "<table border=\"1\" class=\"dataframe\">\n",
       "  <thead>\n",
       "    <tr style=\"text-align: right;\">\n",
       "      <th></th>\n",
       "      <th>details</th>\n",
       "    </tr>\n",
       "  </thead>\n",
       "  <tbody>\n",
       "    <tr>\n",
       "      <th>count</th>\n",
       "      <td>62740.000000</td>\n",
       "    </tr>\n",
       "    <tr>\n",
       "      <th>mean</th>\n",
       "      <td>23.877631</td>\n",
       "    </tr>\n",
       "    <tr>\n",
       "      <th>std</th>\n",
       "      <td>72.180465</td>\n",
       "    </tr>\n",
       "    <tr>\n",
       "      <th>min</th>\n",
       "      <td>4.990000</td>\n",
       "    </tr>\n",
       "    <tr>\n",
       "      <th>25%</th>\n",
       "      <td>4.990000</td>\n",
       "    </tr>\n",
       "    <tr>\n",
       "      <th>50%</th>\n",
       "      <td>4.990000</td>\n",
       "    </tr>\n",
       "    <tr>\n",
       "      <th>75%</th>\n",
       "      <td>9.990000</td>\n",
       "    </tr>\n",
       "    <tr>\n",
       "      <th>max</th>\n",
       "      <td>499.990000</td>\n",
       "    </tr>\n",
       "  </tbody>\n",
       "</table>\n",
       "</div>"
      ],
      "text/plain": [
       "            details\n",
       "count  62740.000000\n",
       "mean      23.877631\n",
       "std       72.180465\n",
       "min        4.990000\n",
       "25%        4.990000\n",
       "50%        4.990000\n",
       "75%        9.990000\n",
       "max      499.990000"
      ]
     },
     "metadata": {},
     "output_type": "display_data"
    },
    {
     "name": "stdout",
     "output_type": "stream",
     "text": [
      "new_users\n"
     ]
    },
    {
     "data": {
      "text/html": [
       "<div>\n",
       "<style scoped>\n",
       "    .dataframe tbody tr th:only-of-type {\n",
       "        vertical-align: middle;\n",
       "    }\n",
       "\n",
       "    .dataframe tbody tr th {\n",
       "        vertical-align: top;\n",
       "    }\n",
       "\n",
       "    .dataframe thead th {\n",
       "        text-align: right;\n",
       "    }\n",
       "</style>\n",
       "<table border=\"1\" class=\"dataframe\">\n",
       "  <thead>\n",
       "    <tr style=\"text-align: right;\">\n",
       "      <th></th>\n",
       "      <th>user_id</th>\n",
       "      <th>first_date</th>\n",
       "      <th>region</th>\n",
       "      <th>device</th>\n",
       "    </tr>\n",
       "  </thead>\n",
       "  <tbody>\n",
       "    <tr>\n",
       "      <th>count</th>\n",
       "      <td>61733</td>\n",
       "      <td>61733</td>\n",
       "      <td>61733</td>\n",
       "      <td>61733</td>\n",
       "    </tr>\n",
       "    <tr>\n",
       "      <th>unique</th>\n",
       "      <td>61733</td>\n",
       "      <td>17</td>\n",
       "      <td>4</td>\n",
       "      <td>4</td>\n",
       "    </tr>\n",
       "    <tr>\n",
       "      <th>top</th>\n",
       "      <td>2887fa62cf5c2b3b</td>\n",
       "      <td>2020-12-21 00:00:00</td>\n",
       "      <td>eu</td>\n",
       "      <td>android</td>\n",
       "    </tr>\n",
       "    <tr>\n",
       "      <th>freq</th>\n",
       "      <td>1</td>\n",
       "      <td>6290</td>\n",
       "      <td>46270</td>\n",
       "      <td>27520</td>\n",
       "    </tr>\n",
       "    <tr>\n",
       "      <th>first</th>\n",
       "      <td>NaN</td>\n",
       "      <td>2020-12-07 00:00:00</td>\n",
       "      <td>NaN</td>\n",
       "      <td>NaN</td>\n",
       "    </tr>\n",
       "    <tr>\n",
       "      <th>last</th>\n",
       "      <td>NaN</td>\n",
       "      <td>2020-12-23 00:00:00</td>\n",
       "      <td>NaN</td>\n",
       "      <td>NaN</td>\n",
       "    </tr>\n",
       "  </tbody>\n",
       "</table>\n",
       "</div>"
      ],
      "text/plain": [
       "                 user_id           first_date region   device\n",
       "count              61733                61733  61733    61733\n",
       "unique             61733                   17      4        4\n",
       "top     2887fa62cf5c2b3b  2020-12-21 00:00:00     eu  android\n",
       "freq                   1                 6290  46270    27520\n",
       "first                NaN  2020-12-07 00:00:00    NaN      NaN\n",
       "last                 NaN  2020-12-23 00:00:00    NaN      NaN"
      ]
     },
     "metadata": {},
     "output_type": "display_data"
    },
    {
     "name": "stdout",
     "output_type": "stream",
     "text": [
      "participants\n"
     ]
    },
    {
     "data": {
      "text/html": [
       "<div>\n",
       "<style scoped>\n",
       "    .dataframe tbody tr th:only-of-type {\n",
       "        vertical-align: middle;\n",
       "    }\n",
       "\n",
       "    .dataframe tbody tr th {\n",
       "        vertical-align: top;\n",
       "    }\n",
       "\n",
       "    .dataframe thead th {\n",
       "        text-align: right;\n",
       "    }\n",
       "</style>\n",
       "<table border=\"1\" class=\"dataframe\">\n",
       "  <thead>\n",
       "    <tr style=\"text-align: right;\">\n",
       "      <th></th>\n",
       "      <th>user_id</th>\n",
       "      <th>group</th>\n",
       "      <th>ab_test</th>\n",
       "    </tr>\n",
       "  </thead>\n",
       "  <tbody>\n",
       "    <tr>\n",
       "      <th>count</th>\n",
       "      <td>18268</td>\n",
       "      <td>18268</td>\n",
       "      <td>18268</td>\n",
       "    </tr>\n",
       "    <tr>\n",
       "      <th>unique</th>\n",
       "      <td>16666</td>\n",
       "      <td>2</td>\n",
       "      <td>2</td>\n",
       "    </tr>\n",
       "    <tr>\n",
       "      <th>top</th>\n",
       "      <td>3f775abc71333988</td>\n",
       "      <td>a</td>\n",
       "      <td>interface_eu_test</td>\n",
       "    </tr>\n",
       "    <tr>\n",
       "      <th>freq</th>\n",
       "      <td>2</td>\n",
       "      <td>9655</td>\n",
       "      <td>11567</td>\n",
       "    </tr>\n",
       "  </tbody>\n",
       "</table>\n",
       "</div>"
      ],
      "text/plain": [
       "                 user_id  group            ab_test\n",
       "count              18268  18268              18268\n",
       "unique             16666      2                  2\n",
       "top     3f775abc71333988      a  interface_eu_test\n",
       "freq                   2   9655              11567"
      ]
     },
     "metadata": {},
     "output_type": "display_data"
    }
   ],
   "source": [
    "for i, t in zip(datas, title):\n",
    "    print(t)\n",
    "    display(i.describe())"
   ]
  },
  {
   "cell_type": "markdown",
   "id": "b53e18de",
   "metadata": {},
   "source": [
    "Каких-то явных аномалий нет."
   ]
  },
  {
   "cell_type": "markdown",
   "id": "257c0106",
   "metadata": {},
   "source": [
    "В ходе подготовки данных были проверены проблемы с дубликатам, пропусками и аномалиями. Данные в целом хорошего качества. Был скорректирован тип данных, там где было нужно."
   ]
  },
  {
   "cell_type": "markdown",
   "id": "a2e22db0",
   "metadata": {},
   "source": [
    "# Оценика корректности проведения теста"
   ]
  },
  {
   "cell_type": "markdown",
   "id": "5e193398",
   "metadata": {},
   "source": [
    "## Проверка на соответствие техническому заданию"
   ]
  },
  {
   "cell_type": "code",
   "execution_count": 19,
   "id": "5a607730",
   "metadata": {},
   "outputs": [
    {
     "data": {
      "text/plain": [
       "array(['recommender_system_test', 'interface_eu_test'], dtype=object)"
      ]
     },
     "execution_count": 19,
     "metadata": {},
     "output_type": "execute_result"
    }
   ],
   "source": [
    "participants.ab_test.unique()"
   ]
  },
  {
   "cell_type": "markdown",
   "id": "175d2445",
   "metadata": {},
   "source": [
    "У нас данные о проведении двух тестов, нас интересует только тест recommender_system_test. В дальнейшем надо будет проверить влияние."
   ]
  },
  {
   "cell_type": "markdown",
   "id": "05a15d45",
   "metadata": {},
   "source": [
    "Проверим количество групп."
   ]
  },
  {
   "cell_type": "code",
   "execution_count": 20,
   "id": "6314106a",
   "metadata": {},
   "outputs": [
    {
     "data": {
      "text/plain": [
       "array(['a', 'b'], dtype=object)"
      ]
     },
     "execution_count": 20,
     "metadata": {},
     "output_type": "execute_result"
    }
   ],
   "source": [
    "participants.group.unique()"
   ]
  },
  {
   "cell_type": "markdown",
   "id": "ce095440",
   "metadata": {},
   "source": [
    "Соответствует техническому заданию. Посмотрим на дату?"
   ]
  },
  {
   "cell_type": "code",
   "execution_count": 21,
   "id": "06f04696",
   "metadata": {},
   "outputs": [
    {
     "name": "stdout",
     "output_type": "stream",
     "text": [
      "Дата начала набора пользователей 2020-12-07 00:00:00 Дата окончания 2020-12-23 00:00:00\n"
     ]
    }
   ],
   "source": [
    "print('Дата начала набора пользователей', new_users.first_date.min(), 'Дата окончания', new_users.first_date.max())"
   ]
  },
  {
   "cell_type": "markdown",
   "id": "3654c588",
   "metadata": {},
   "source": [
    "Дата останова набора не соответсвуте, должно быть 21 число. Оставим только нужные данные. И по ней скорректируем остальные данные."
   ]
  },
  {
   "cell_type": "code",
   "execution_count": 22,
   "id": "36b4d736",
   "metadata": {},
   "outputs": [
    {
     "name": "stdout",
     "output_type": "stream",
     "text": [
      "Дата начала набора пользователей 2020-12-07 00:00:00 Дата окончания 2020-12-21 00:00:00\n"
     ]
    }
   ],
   "source": [
    "new_users = new_users.query('first_date <= \"2020-12-21\"').copy()\n",
    "\n",
    "events = events[events['user_id'].isin(new_users.user_id.values.tolist())]\n",
    "\n",
    "participants = participants[participants['user_id'].isin(new_users.user_id.values.tolist())]\n",
    "\n",
    "print('Дата начала набора пользователей', new_users.first_date.min(), 'Дата окончания', new_users.first_date.max())"
   ]
  },
  {
   "cell_type": "code",
   "execution_count": 23,
   "id": "1b414479",
   "metadata": {},
   "outputs": [
    {
     "name": "stdout",
     "output_type": "stream",
     "text": [
      "Дата остановки теста 2020-12-30 23:36:33\n"
     ]
    }
   ],
   "source": [
    "print('Дата остановки теста', events.event_dt.max())"
   ]
  },
  {
   "cell_type": "markdown",
   "id": "d7f3a274",
   "metadata": {},
   "source": [
    "Дата остановки теста не соответствует техническому заданию."
   ]
  },
  {
   "cell_type": "code",
   "execution_count": 25,
   "id": "e12814e7",
   "metadata": {},
   "outputs": [
    {
     "name": "stdout",
     "output_type": "stream",
     "text": [
      "Доля пользователей из EU - участников теста: 94.78%\n"
     ]
    }
   ],
   "source": [
    "eu_users = participants.query('ab_test == \"recommender_system_test\"')\\\n",
    "            .join(new_users.set_index('user_id'), on='user_id')\\\n",
    "            .query('region == \"eu\"')['user_id'].nunique()\n",
    "\n",
    "test_users = participants.query('ab_test == \"recommender_system_test\"')\\\n",
    "                .join(new_users.set_index('user_id'), on='user_id')['user_id'].nunique()\n",
    "\n",
    "print('Доля пользователей из EU - участников теста: {:.2%}'.format(eu_users / test_users))"
   ]
  },
  {
   "cell_type": "markdown",
   "id": "d24bf315",
   "metadata": {},
   "source": [
    "Почти все участники теста из Европы. Скорее всего тест проводился в Европе. Дальше будем это учитывать."
   ]
  },
  {
   "cell_type": "code",
   "execution_count": 26,
   "id": "fb22a53c",
   "metadata": {},
   "outputs": [
    {
     "name": "stdout",
     "output_type": "stream",
     "text": [
      "Количество участников теста 6351\n"
     ]
    }
   ],
   "source": [
    "print('Количество участников теста',eu_users)"
   ]
  },
  {
   "cell_type": "markdown",
   "id": "e3621454",
   "metadata": {},
   "source": [
    "Практически соответствует техническому заданию."
   ]
  },
  {
   "cell_type": "markdown",
   "id": "9522483a",
   "metadata": {},
   "source": [
    "## Время проведения теста"
   ]
  },
  {
   "cell_type": "markdown",
   "id": "72db9101",
   "metadata": {},
   "source": [
    "Время проведения теста не должно совпадать с маркетинговыми событиями."
   ]
  },
  {
   "cell_type": "code",
   "execution_count": 27,
   "id": "29a22191",
   "metadata": {},
   "outputs": [
    {
     "name": "stdout",
     "output_type": "stream",
     "text": [
      "Периоды маркетинговых событий\n"
     ]
    },
    {
     "data": {
      "text/html": [
       "<div>\n",
       "<style scoped>\n",
       "    .dataframe tbody tr th:only-of-type {\n",
       "        vertical-align: middle;\n",
       "    }\n",
       "\n",
       "    .dataframe tbody tr th {\n",
       "        vertical-align: top;\n",
       "    }\n",
       "\n",
       "    .dataframe thead th {\n",
       "        text-align: right;\n",
       "    }\n",
       "</style>\n",
       "<table border=\"1\" class=\"dataframe\">\n",
       "  <thead>\n",
       "    <tr style=\"text-align: right;\">\n",
       "      <th></th>\n",
       "      <th>name</th>\n",
       "      <th>regions</th>\n",
       "      <th>start_dt</th>\n",
       "      <th>finish_dt</th>\n",
       "    </tr>\n",
       "  </thead>\n",
       "  <tbody>\n",
       "    <tr>\n",
       "      <th>0</th>\n",
       "      <td>christmas&amp;new year promo</td>\n",
       "      <td>eu, n.america</td>\n",
       "      <td>2020-12-25</td>\n",
       "      <td>2021-01-03</td>\n",
       "    </tr>\n",
       "  </tbody>\n",
       "</table>\n",
       "</div>"
      ],
      "text/plain": [
       "                       name        regions   start_dt  finish_dt\n",
       "0  christmas&new year promo  eu, n.america 2020-12-25 2021-01-03"
      ]
     },
     "metadata": {},
     "output_type": "display_data"
    },
    {
     "name": "stdout",
     "output_type": "stream",
     "text": [
      "None\n",
      "Период проведения теста\n",
      "2020-12-07 00:00:33 - 2020-12-30 23:36:33\n"
     ]
    }
   ],
   "source": [
    "print('Периоды маркетинговых событий')\n",
    "event_x = (marketing_events.sort_values('start_dt')\n",
    "        .query('((start_dt >= @events.event_dt.min() and start_dt <= @events.event_dt.max()) or\\\n",
    "        (finish_dt >= @events.event_dt.min() and finish_dt <= @events.event_dt.max())) and\\\n",
    "        (regions == \"eu, n.america\" or regions == \"eu, cis, apac, n.america\" or regions == \"eu, cis, apac\")'))\n",
    "print(display(event_x))\n",
    "print('Период проведения теста')\n",
    "print(events.event_dt.min(), '-',events.event_dt.max())"
   ]
  },
  {
   "cell_type": "markdown",
   "id": "f065230e",
   "metadata": {},
   "source": [
    "2 события попали в период проведения теста. Надо это будет учесть при исследовании."
   ]
  },
  {
   "cell_type": "markdown",
   "id": "e9bf6fc8",
   "metadata": {},
   "source": [
    "## Аудитория теста"
   ]
  },
  {
   "cell_type": "code",
   "execution_count": 28,
   "id": "75327301",
   "metadata": {
    "scrolled": true
   },
   "outputs": [
    {
     "name": "stdout",
     "output_type": "stream",
     "text": [
      "Количество пользователей, участвующих в обоих тестрованиях - 1602 человека\n"
     ]
    }
   ],
   "source": [
    "err = participants.groupby('user_id').agg({'ab_test': 'nunique'}).reset_index().query('ab_test > 1')\n",
    "\n",
    "print('Количество пользователей, участвующих в обоих тестрованиях - %s человека' % err.shape[0])"
   ]
  },
  {
   "cell_type": "markdown",
   "id": "65d30ca7",
   "metadata": {},
   "source": [
    "Исключим пользователей, которые учавствовали в обоих тестах. И оставим только интересующий нас тест в данных"
   ]
  },
  {
   "cell_type": "code",
   "execution_count": 29,
   "id": "0569922d",
   "metadata": {},
   "outputs": [
    {
     "name": "stdout",
     "output_type": "stream",
     "text": [
      "Количество участников в 2 группах сразу: 0\n"
     ]
    }
   ],
   "source": [
    "print('Количество участников в 2 группах сразу:',\\\n",
    "      participants.query('ab_test == \"interface_eu_test\"').groupby('user_id').agg({'group':'nunique'})\\\n",
    "      .reset_index().query('group > 1').shape[0])"
   ]
  },
  {
   "cell_type": "markdown",
   "id": "1caf9eb4",
   "metadata": {},
   "source": [
    "Исключаем из пересекающего списка группа А из другого теста."
   ]
  },
  {
   "cell_type": "code",
   "execution_count": 30,
   "id": "5c2c8fdf",
   "metadata": {},
   "outputs": [],
   "source": [
    "test_2_a = participants.query('ab_test == \"interface_eu_test\" and group == \"a\"')['user_id'].values.tolist()\n",
    "\n",
    "err_t2_a = err[~err['user_id'].isin(test_2_a)].user_id.values.tolist()"
   ]
  },
  {
   "cell_type": "markdown",
   "id": "690c4622",
   "metadata": {},
   "source": [
    "Производим фильтрацию по тесту, региону и пересекающихся пользователей."
   ]
  },
  {
   "cell_type": "code",
   "execution_count": 31,
   "id": "75db8917",
   "metadata": {},
   "outputs": [],
   "source": [
    "participants = participants.query('ab_test == \"recommender_system_test\"')\\\n",
    "                            [participants['user_id'].isin(new_users.query('region == \"eu\"').user_id.values.tolist())]\n",
    "\n",
    "participants = participants[~participants['user_id'].isin(err_t2_a)]\n",
    "\n",
    "new_users = new_users[new_users['user_id'].isin(participants.user_id.values.tolist())]\n",
    "events = events[events['user_id'].isin(participants.user_id.values.tolist())]"
   ]
  },
  {
   "cell_type": "code",
   "execution_count": 32,
   "id": "4c422c5b",
   "metadata": {},
   "outputs": [
    {
     "name": "stdout",
     "output_type": "stream",
     "text": [
      "Количество участников в 2 группах сразу: 0\n"
     ]
    }
   ],
   "source": [
    "print('Количество участников в 2 группах сразу:',\\\n",
    "      participants.groupby('user_id').agg({'group':'nunique'}).reset_index().query('group > 1').shape[0])"
   ]
  },
  {
   "cell_type": "code",
   "execution_count": 33,
   "id": "e592b3ec",
   "metadata": {},
   "outputs": [
    {
     "data": {
      "text/html": [
       "<div>\n",
       "<style scoped>\n",
       "    .dataframe tbody tr th:only-of-type {\n",
       "        vertical-align: middle;\n",
       "    }\n",
       "\n",
       "    .dataframe tbody tr th {\n",
       "        vertical-align: top;\n",
       "    }\n",
       "\n",
       "    .dataframe thead th {\n",
       "        text-align: right;\n",
       "    }\n",
       "</style>\n",
       "<table border=\"1\" class=\"dataframe\">\n",
       "  <thead>\n",
       "    <tr style=\"text-align: right;\">\n",
       "      <th></th>\n",
       "      <th></th>\n",
       "      <th>user_id</th>\n",
       "    </tr>\n",
       "    <tr>\n",
       "      <th>ab_test</th>\n",
       "      <th>group</th>\n",
       "      <th></th>\n",
       "    </tr>\n",
       "  </thead>\n",
       "  <tbody>\n",
       "    <tr>\n",
       "      <th rowspan=\"2\" valign=\"top\">recommender_system_test</th>\n",
       "      <th>a</th>\n",
       "      <td>3195</td>\n",
       "    </tr>\n",
       "    <tr>\n",
       "      <th>b</th>\n",
       "      <td>2373</td>\n",
       "    </tr>\n",
       "  </tbody>\n",
       "</table>\n",
       "</div>"
      ],
      "text/plain": [
       "                               user_id\n",
       "ab_test                 group         \n",
       "recommender_system_test a         3195\n",
       "                        b         2373"
      ]
     },
     "execution_count": 33,
     "metadata": {},
     "output_type": "execute_result"
    }
   ],
   "source": [
    "participants.groupby(['ab_test', 'group']).agg({'user_id': 'nunique'})"
   ]
  },
  {
   "cell_type": "markdown",
   "id": "8f906b98",
   "metadata": {},
   "source": [
    "Распределение по гурппам не равномерное."
   ]
  },
  {
   "cell_type": "markdown",
   "id": "337373c6",
   "metadata": {},
   "source": [
    "После оценки проведения корректности теста, его можно оценить, как удовлетворительное. Так как у нас завышенное число пользователей из Еропейского региона, да и сами пользователи в регионах распределены в группах не равномерно."
   ]
  },
  {
   "cell_type": "markdown",
   "id": "4533ca36",
   "metadata": {},
   "source": [
    "# Исследовательский анализ"
   ]
  },
  {
   "cell_type": "markdown",
   "id": "f049f69e",
   "metadata": {},
   "source": [
    "## Распределение по количеству"
   ]
  },
  {
   "cell_type": "markdown",
   "id": "84931734",
   "metadata": {},
   "source": [
    "Для удобства объеденим таблицы"
   ]
  },
  {
   "cell_type": "code",
   "execution_count": 34,
   "id": "34f78c22",
   "metadata": {},
   "outputs": [
    {
     "data": {
      "text/html": [
       "<div>\n",
       "<style scoped>\n",
       "    .dataframe tbody tr th:only-of-type {\n",
       "        vertical-align: middle;\n",
       "    }\n",
       "\n",
       "    .dataframe tbody tr th {\n",
       "        vertical-align: top;\n",
       "    }\n",
       "\n",
       "    .dataframe thead th {\n",
       "        text-align: right;\n",
       "    }\n",
       "</style>\n",
       "<table border=\"1\" class=\"dataframe\">\n",
       "  <thead>\n",
       "    <tr style=\"text-align: right;\">\n",
       "      <th></th>\n",
       "      <th>user_id</th>\n",
       "      <th>event_dt</th>\n",
       "      <th>event_name</th>\n",
       "      <th>details</th>\n",
       "      <th>group</th>\n",
       "      <th>first_date</th>\n",
       "      <th>region</th>\n",
       "      <th>device</th>\n",
       "    </tr>\n",
       "  </thead>\n",
       "  <tbody>\n",
       "    <tr>\n",
       "      <th>0</th>\n",
       "      <td>831887fe7f2d6cba</td>\n",
       "      <td>2020-12-07 06:50:29</td>\n",
       "      <td>purchase</td>\n",
       "      <td>4.99</td>\n",
       "      <td>a</td>\n",
       "      <td>2020-12-07</td>\n",
       "      <td>eu</td>\n",
       "      <td>android</td>\n",
       "    </tr>\n",
       "    <tr>\n",
       "      <th>1</th>\n",
       "      <td>3c5dd0288ac4fe23</td>\n",
       "      <td>2020-12-07 19:42:40</td>\n",
       "      <td>purchase</td>\n",
       "      <td>4.99</td>\n",
       "      <td>a</td>\n",
       "      <td>2020-12-07</td>\n",
       "      <td>eu</td>\n",
       "      <td>pc</td>\n",
       "    </tr>\n",
       "    <tr>\n",
       "      <th>2</th>\n",
       "      <td>49ea242586c87836</td>\n",
       "      <td>2020-12-07 06:31:24</td>\n",
       "      <td>purchase</td>\n",
       "      <td>99.99</td>\n",
       "      <td>b</td>\n",
       "      <td>2020-12-07</td>\n",
       "      <td>eu</td>\n",
       "      <td>iphone</td>\n",
       "    </tr>\n",
       "    <tr>\n",
       "      <th>3</th>\n",
       "      <td>2b06eb547b7aad08</td>\n",
       "      <td>2020-12-07 21:36:38</td>\n",
       "      <td>purchase</td>\n",
       "      <td>4.99</td>\n",
       "      <td>a</td>\n",
       "      <td>2020-12-07</td>\n",
       "      <td>eu</td>\n",
       "      <td>pc</td>\n",
       "    </tr>\n",
       "    <tr>\n",
       "      <th>4</th>\n",
       "      <td>a640f31cac7823a6</td>\n",
       "      <td>2020-12-07 18:48:26</td>\n",
       "      <td>purchase</td>\n",
       "      <td>4.99</td>\n",
       "      <td>b</td>\n",
       "      <td>2020-12-07</td>\n",
       "      <td>eu</td>\n",
       "      <td>pc</td>\n",
       "    </tr>\n",
       "    <tr>\n",
       "      <th>...</th>\n",
       "      <td>...</td>\n",
       "      <td>...</td>\n",
       "      <td>...</td>\n",
       "      <td>...</td>\n",
       "      <td>...</td>\n",
       "      <td>...</td>\n",
       "      <td>...</td>\n",
       "      <td>...</td>\n",
       "    </tr>\n",
       "    <tr>\n",
       "      <th>20559</th>\n",
       "      <td>e5589eae02acd150</td>\n",
       "      <td>2020-12-29 22:17:08</td>\n",
       "      <td>login</td>\n",
       "      <td>NaN</td>\n",
       "      <td>a</td>\n",
       "      <td>2020-12-20</td>\n",
       "      <td>eu</td>\n",
       "      <td>mac</td>\n",
       "    </tr>\n",
       "    <tr>\n",
       "      <th>20560</th>\n",
       "      <td>d21f0d4fdcd82db2</td>\n",
       "      <td>2020-12-29 02:17:00</td>\n",
       "      <td>login</td>\n",
       "      <td>NaN</td>\n",
       "      <td>a</td>\n",
       "      <td>2020-12-20</td>\n",
       "      <td>eu</td>\n",
       "      <td>iphone</td>\n",
       "    </tr>\n",
       "    <tr>\n",
       "      <th>20561</th>\n",
       "      <td>553bae96c6eb6240</td>\n",
       "      <td>2020-12-29 14:09:14</td>\n",
       "      <td>login</td>\n",
       "      <td>NaN</td>\n",
       "      <td>a</td>\n",
       "      <td>2020-12-20</td>\n",
       "      <td>eu</td>\n",
       "      <td>android</td>\n",
       "    </tr>\n",
       "    <tr>\n",
       "      <th>20562</th>\n",
       "      <td>dd4352cdcf8c3d57</td>\n",
       "      <td>2020-12-30 12:42:56</td>\n",
       "      <td>login</td>\n",
       "      <td>NaN</td>\n",
       "      <td>b</td>\n",
       "      <td>2020-12-07</td>\n",
       "      <td>eu</td>\n",
       "      <td>android</td>\n",
       "    </tr>\n",
       "    <tr>\n",
       "      <th>20563</th>\n",
       "      <td>75845c83258fbf73</td>\n",
       "      <td>2020-12-30 06:42:52</td>\n",
       "      <td>login</td>\n",
       "      <td>NaN</td>\n",
       "      <td>b</td>\n",
       "      <td>2020-12-07</td>\n",
       "      <td>eu</td>\n",
       "      <td>android</td>\n",
       "    </tr>\n",
       "  </tbody>\n",
       "</table>\n",
       "<p>20564 rows × 8 columns</p>\n",
       "</div>"
      ],
      "text/plain": [
       "                user_id            event_dt event_name  details group  \\\n",
       "0      831887fe7f2d6cba 2020-12-07 06:50:29   purchase     4.99     a   \n",
       "1      3c5dd0288ac4fe23 2020-12-07 19:42:40   purchase     4.99     a   \n",
       "2      49ea242586c87836 2020-12-07 06:31:24   purchase    99.99     b   \n",
       "3      2b06eb547b7aad08 2020-12-07 21:36:38   purchase     4.99     a   \n",
       "4      a640f31cac7823a6 2020-12-07 18:48:26   purchase     4.99     b   \n",
       "...                 ...                 ...        ...      ...   ...   \n",
       "20559  e5589eae02acd150 2020-12-29 22:17:08      login      NaN     a   \n",
       "20560  d21f0d4fdcd82db2 2020-12-29 02:17:00      login      NaN     a   \n",
       "20561  553bae96c6eb6240 2020-12-29 14:09:14      login      NaN     a   \n",
       "20562  dd4352cdcf8c3d57 2020-12-30 12:42:56      login      NaN     b   \n",
       "20563  75845c83258fbf73 2020-12-30 06:42:52      login      NaN     b   \n",
       "\n",
       "      first_date region   device  \n",
       "0     2020-12-07     eu  android  \n",
       "1     2020-12-07     eu       pc  \n",
       "2     2020-12-07     eu   iphone  \n",
       "3     2020-12-07     eu       pc  \n",
       "4     2020-12-07     eu       pc  \n",
       "...          ...    ...      ...  \n",
       "20559 2020-12-20     eu      mac  \n",
       "20560 2020-12-20     eu   iphone  \n",
       "20561 2020-12-20     eu  android  \n",
       "20562 2020-12-07     eu  android  \n",
       "20563 2020-12-07     eu  android  \n",
       "\n",
       "[20564 rows x 8 columns]"
      ]
     },
     "execution_count": 34,
     "metadata": {},
     "output_type": "execute_result"
    }
   ],
   "source": [
    "df = (events.join(participants.set_index('user_id'), on='user_id').drop(['ab_test'], axis=1)\n",
    "    .join(new_users.set_index('user_id'), on='user_id')).reset_index(drop=True)\n",
    "df"
   ]
  },
  {
   "cell_type": "markdown",
   "id": "1031e479",
   "metadata": {},
   "source": [
    "Распределение количества событий на пользователя."
   ]
  },
  {
   "cell_type": "code",
   "execution_count": 35,
   "id": "6ccc5851",
   "metadata": {},
   "outputs": [
    {
     "data": {
      "text/html": [
       "<div>\n",
       "<style scoped>\n",
       "    .dataframe tbody tr th:only-of-type {\n",
       "        vertical-align: middle;\n",
       "    }\n",
       "\n",
       "    .dataframe tbody tr th {\n",
       "        vertical-align: top;\n",
       "    }\n",
       "\n",
       "    .dataframe thead th {\n",
       "        text-align: right;\n",
       "    }\n",
       "</style>\n",
       "<table border=\"1\" class=\"dataframe\">\n",
       "  <thead>\n",
       "    <tr style=\"text-align: right;\">\n",
       "      <th></th>\n",
       "      <th>user_id</th>\n",
       "      <th>user</th>\n",
       "      <th>среднее</th>\n",
       "    </tr>\n",
       "    <tr>\n",
       "      <th>group</th>\n",
       "      <th></th>\n",
       "      <th></th>\n",
       "      <th></th>\n",
       "    </tr>\n",
       "  </thead>\n",
       "  <tbody>\n",
       "    <tr>\n",
       "      <th>a</th>\n",
       "      <td>16154</td>\n",
       "      <td>2279</td>\n",
       "      <td>7.1</td>\n",
       "    </tr>\n",
       "    <tr>\n",
       "      <th>b</th>\n",
       "      <td>4410</td>\n",
       "      <td>771</td>\n",
       "      <td>5.7</td>\n",
       "    </tr>\n",
       "  </tbody>\n",
       "</table>\n",
       "</div>"
      ],
      "text/plain": [
       "       user_id  user  среднее\n",
       "group                        \n",
       "a        16154  2279      7.1\n",
       "b         4410   771      5.7"
      ]
     },
     "metadata": {},
     "output_type": "display_data"
    },
    {
     "data": {
      "image/png": "[encoded data removed]",
      "text/plain": [
       "<Figure size 432x432 with 1 Axes>"
      ]
     },
     "metadata": {},
     "output_type": "display_data"
    }
   ],
   "source": [
    "kol = df.pivot_table(index='group', values='user_id', aggfunc='count')\n",
    "\n",
    "kol['user'] = 0\n",
    "kol['user'][0] = df.query('group == \"a\"').user_id.nunique()\n",
    "kol['user'][1] = df.query('group == \"b\"').user_id.nunique()\n",
    "\n",
    "kol['среднее'] = round(kol['user_id'] / kol['user'], 1)\n",
    "\n",
    "display(kol)\n",
    "\n",
    "kol.plot(kind='pie', y='среднее', autopct='%1.0f%%', figsize=(6, 6), fontsize=20)\n",
    "plt.ylabel('')\n",
    "plt.title('Соотношение событиый на пользователя');"
   ]
  },
  {
   "cell_type": "markdown",
   "id": "f58d4607",
   "metadata": {},
   "source": [
    "В группы разлицаются на 10 процентов по количеству событий на пользователя."
   ]
  },
  {
   "cell_type": "markdown",
   "id": "85fd1c76",
   "metadata": {},
   "source": [
    "## По дням"
   ]
  },
  {
   "cell_type": "markdown",
   "id": "9d8ed5c5",
   "metadata": {},
   "source": [
    "Добавляем столбец для группировки по дням."
   ]
  },
  {
   "cell_type": "code",
   "execution_count": 36,
   "id": "7f00bfae",
   "metadata": {},
   "outputs": [
    {
     "data": {
      "text/html": [
       "<div>\n",
       "<style scoped>\n",
       "    .dataframe tbody tr th:only-of-type {\n",
       "        vertical-align: middle;\n",
       "    }\n",
       "\n",
       "    .dataframe tbody tr th {\n",
       "        vertical-align: top;\n",
       "    }\n",
       "\n",
       "    .dataframe thead th {\n",
       "        text-align: right;\n",
       "    }\n",
       "</style>\n",
       "<table border=\"1\" class=\"dataframe\">\n",
       "  <thead>\n",
       "    <tr style=\"text-align: right;\">\n",
       "      <th></th>\n",
       "      <th>user_id</th>\n",
       "      <th>event_dt</th>\n",
       "      <th>event_name</th>\n",
       "      <th>details</th>\n",
       "      <th>group</th>\n",
       "      <th>first_date</th>\n",
       "      <th>region</th>\n",
       "      <th>device</th>\n",
       "      <th>day</th>\n",
       "    </tr>\n",
       "  </thead>\n",
       "  <tbody>\n",
       "    <tr>\n",
       "      <th>0</th>\n",
       "      <td>831887fe7f2d6cba</td>\n",
       "      <td>2020-12-07 06:50:29</td>\n",
       "      <td>purchase</td>\n",
       "      <td>4.99</td>\n",
       "      <td>a</td>\n",
       "      <td>2020-12-07</td>\n",
       "      <td>eu</td>\n",
       "      <td>android</td>\n",
       "      <td>2020-12-07</td>\n",
       "    </tr>\n",
       "    <tr>\n",
       "      <th>1</th>\n",
       "      <td>3c5dd0288ac4fe23</td>\n",
       "      <td>2020-12-07 19:42:40</td>\n",
       "      <td>purchase</td>\n",
       "      <td>4.99</td>\n",
       "      <td>a</td>\n",
       "      <td>2020-12-07</td>\n",
       "      <td>eu</td>\n",
       "      <td>pc</td>\n",
       "      <td>2020-12-07</td>\n",
       "    </tr>\n",
       "    <tr>\n",
       "      <th>2</th>\n",
       "      <td>49ea242586c87836</td>\n",
       "      <td>2020-12-07 06:31:24</td>\n",
       "      <td>purchase</td>\n",
       "      <td>99.99</td>\n",
       "      <td>b</td>\n",
       "      <td>2020-12-07</td>\n",
       "      <td>eu</td>\n",
       "      <td>iphone</td>\n",
       "      <td>2020-12-07</td>\n",
       "    </tr>\n",
       "    <tr>\n",
       "      <th>3</th>\n",
       "      <td>2b06eb547b7aad08</td>\n",
       "      <td>2020-12-07 21:36:38</td>\n",
       "      <td>purchase</td>\n",
       "      <td>4.99</td>\n",
       "      <td>a</td>\n",
       "      <td>2020-12-07</td>\n",
       "      <td>eu</td>\n",
       "      <td>pc</td>\n",
       "      <td>2020-12-07</td>\n",
       "    </tr>\n",
       "  </tbody>\n",
       "</table>\n",
       "</div>"
      ],
      "text/plain": [
       "            user_id            event_dt event_name  details group first_date  \\\n",
       "0  831887fe7f2d6cba 2020-12-07 06:50:29   purchase     4.99     a 2020-12-07   \n",
       "1  3c5dd0288ac4fe23 2020-12-07 19:42:40   purchase     4.99     a 2020-12-07   \n",
       "2  49ea242586c87836 2020-12-07 06:31:24   purchase    99.99     b 2020-12-07   \n",
       "3  2b06eb547b7aad08 2020-12-07 21:36:38   purchase     4.99     a 2020-12-07   \n",
       "\n",
       "  region   device         day  \n",
       "0     eu  android  2020-12-07  \n",
       "1     eu       pc  2020-12-07  \n",
       "2     eu   iphone  2020-12-07  \n",
       "3     eu       pc  2020-12-07  "
      ]
     },
     "execution_count": 36,
     "metadata": {},
     "output_type": "execute_result"
    }
   ],
   "source": [
    "df['day'] = df['event_dt'].dt.strftime('%Y-%m-%d')\n",
    "df.head(4)"
   ]
  },
  {
   "cell_type": "markdown",
   "id": "b6753964",
   "metadata": {},
   "source": [
    "Создаем таблицу сгруппированую по дням количества событий"
   ]
  },
  {
   "cell_type": "code",
   "execution_count": 37,
   "id": "97c89f50",
   "metadata": {},
   "outputs": [
    {
     "data": {
      "text/html": [
       "<div>\n",
       "<style scoped>\n",
       "    .dataframe tbody tr th:only-of-type {\n",
       "        vertical-align: middle;\n",
       "    }\n",
       "\n",
       "    .dataframe tbody tr th {\n",
       "        vertical-align: top;\n",
       "    }\n",
       "\n",
       "    .dataframe thead th {\n",
       "        text-align: right;\n",
       "    }\n",
       "</style>\n",
       "<table border=\"1\" class=\"dataframe\">\n",
       "  <thead>\n",
       "    <tr style=\"text-align: right;\">\n",
       "      <th></th>\n",
       "      <th>day</th>\n",
       "      <th>events</th>\n",
       "    </tr>\n",
       "  </thead>\n",
       "  <tbody>\n",
       "    <tr>\n",
       "      <th>0</th>\n",
       "      <td>2020-12-07</td>\n",
       "      <td>578</td>\n",
       "    </tr>\n",
       "    <tr>\n",
       "      <th>1</th>\n",
       "      <td>2020-12-08</td>\n",
       "      <td>490</td>\n",
       "    </tr>\n",
       "    <tr>\n",
       "      <th>2</th>\n",
       "      <td>2020-12-09</td>\n",
       "      <td>620</td>\n",
       "    </tr>\n",
       "    <tr>\n",
       "      <th>3</th>\n",
       "      <td>2020-12-10</td>\n",
       "      <td>512</td>\n",
       "    </tr>\n",
       "    <tr>\n",
       "      <th>4</th>\n",
       "      <td>2020-12-11</td>\n",
       "      <td>446</td>\n",
       "    </tr>\n",
       "  </tbody>\n",
       "</table>\n",
       "</div>"
      ],
      "text/plain": [
       "          day  events\n",
       "0  2020-12-07     578\n",
       "1  2020-12-08     490\n",
       "2  2020-12-09     620\n",
       "3  2020-12-10     512\n",
       "4  2020-12-11     446"
      ]
     },
     "execution_count": 37,
     "metadata": {},
     "output_type": "execute_result"
    }
   ],
   "source": [
    "test_events_by_day  = df.groupby('day')['event_dt'].count().reset_index()\n",
    "test_events_by_day.columns = ['day', 'events']\n",
    "test_events_by_day.head()"
   ]
  },
  {
   "cell_type": "markdown",
   "id": "7fee7c6a",
   "metadata": {},
   "source": [
    "Построем распределение."
   ]
  },
  {
   "cell_type": "code",
   "execution_count": 38,
   "id": "38ebc89b",
   "metadata": {},
   "outputs": [
    {
     "data": {
      "text/html": [
       "<div>\n",
       "<style scoped>\n",
       "    .dataframe tbody tr th:only-of-type {\n",
       "        vertical-align: middle;\n",
       "    }\n",
       "\n",
       "    .dataframe tbody tr th {\n",
       "        vertical-align: top;\n",
       "    }\n",
       "\n",
       "    .dataframe thead th {\n",
       "        text-align: right;\n",
       "    }\n",
       "</style>\n",
       "<table border=\"1\" class=\"dataframe\">\n",
       "  <thead>\n",
       "    <tr style=\"text-align: right;\">\n",
       "      <th></th>\n",
       "      <th>group</th>\n",
       "      <th>day</th>\n",
       "      <th>user_id</th>\n",
       "    </tr>\n",
       "  </thead>\n",
       "  <tbody>\n",
       "    <tr>\n",
       "      <th>0</th>\n",
       "      <td>a</td>\n",
       "      <td>2020-12-07</td>\n",
       "      <td>263</td>\n",
       "    </tr>\n",
       "    <tr>\n",
       "      <th>1</th>\n",
       "      <td>a</td>\n",
       "      <td>2020-12-08</td>\n",
       "      <td>283</td>\n",
       "    </tr>\n",
       "    <tr>\n",
       "      <th>2</th>\n",
       "      <td>a</td>\n",
       "      <td>2020-12-09</td>\n",
       "      <td>331</td>\n",
       "    </tr>\n",
       "    <tr>\n",
       "      <th>3</th>\n",
       "      <td>a</td>\n",
       "      <td>2020-12-10</td>\n",
       "      <td>294</td>\n",
       "    </tr>\n",
       "    <tr>\n",
       "      <th>4</th>\n",
       "      <td>a</td>\n",
       "      <td>2020-12-11</td>\n",
       "      <td>309</td>\n",
       "    </tr>\n",
       "  </tbody>\n",
       "</table>\n",
       "</div>"
      ],
      "text/plain": [
       "  group         day  user_id\n",
       "0     a  2020-12-07      263\n",
       "1     a  2020-12-08      283\n",
       "2     a  2020-12-09      331\n",
       "3     a  2020-12-10      294\n",
       "4     a  2020-12-11      309"
      ]
     },
     "execution_count": 38,
     "metadata": {},
     "output_type": "execute_result"
    }
   ],
   "source": [
    "a = df.pivot_table(index=['group', 'day'], values='user_id', aggfunc='count').reset_index()\n",
    "a.head()"
   ]
  },
  {
   "cell_type": "code",
   "execution_count": 39,
   "id": "bed52344",
   "metadata": {},
   "outputs": [
    {
     "data": {
      "image/png": "[encoded data removed]",
      "text/plain": [
       "<Figure size 1224x720 with 1 Axes>"
      ]
     },
     "metadata": {
      "needs_background": "light"
     },
     "output_type": "display_data"
    }
   ],
   "source": [
    "plt.figure(figsize=(17, 10))\n",
    "ax = sns.barplot(x = 'day', y = 'user_id',data = a,hue='group')\n",
    "ax.set_xticklabels(ax.get_xticklabels(),rotation = 90);"
   ]
  },
  {
   "cell_type": "markdown",
   "id": "04f4baa2",
   "metadata": {},
   "source": [
    "Видно, что группе b событий значительно меньше каждый день, кроме первого дня. Посмотрим на эту группу бпоближе, чтобы увидеть изменения."
   ]
  },
  {
   "cell_type": "code",
   "execution_count": 40,
   "id": "9ff35dd9",
   "metadata": {},
   "outputs": [
    {
     "data": {
      "image/png": "[encoded data removed]",
      "text/plain": [
       "<Figure size 1224x720 with 1 Axes>"
      ]
     },
     "metadata": {
      "needs_background": "light"
     },
     "output_type": "display_data"
    }
   ],
   "source": [
    "plt.figure(figsize=(17, 10))\n",
    "ax = sns.barplot(x = 'day', y = 'user_id',data = a[a.group == \"b\"])\n",
    "ax.set_xticklabels(ax.get_xticklabels(),rotation = 90);"
   ]
  },
  {
   "cell_type": "markdown",
   "id": "83c2a134",
   "metadata": {},
   "source": [
    "В группе Б количество событий до 13 декабря падает, а в группе А не меняется. А затем в обоих группах идет рост до 21 декабря, затем спад. 30 декабря практически нет событий."
   ]
  },
  {
   "cell_type": "markdown",
   "id": "f10f69c1",
   "metadata": {},
   "source": [
    "Из исследования проведенного до этого мы значем, что в период тест попали 2 маркейтинговых собятия."
   ]
  },
  {
   "cell_type": "code",
   "execution_count": 41,
   "id": "20f7f0a4",
   "metadata": {},
   "outputs": [
    {
     "data": {
      "text/html": [
       "<div>\n",
       "<style scoped>\n",
       "    .dataframe tbody tr th:only-of-type {\n",
       "        vertical-align: middle;\n",
       "    }\n",
       "\n",
       "    .dataframe tbody tr th {\n",
       "        vertical-align: top;\n",
       "    }\n",
       "\n",
       "    .dataframe thead th {\n",
       "        text-align: right;\n",
       "    }\n",
       "</style>\n",
       "<table border=\"1\" class=\"dataframe\">\n",
       "  <thead>\n",
       "    <tr style=\"text-align: right;\">\n",
       "      <th></th>\n",
       "      <th>name</th>\n",
       "      <th>regions</th>\n",
       "      <th>start_dt</th>\n",
       "      <th>finish_dt</th>\n",
       "    </tr>\n",
       "  </thead>\n",
       "  <tbody>\n",
       "    <tr>\n",
       "      <th>0</th>\n",
       "      <td>christmas&amp;new year promo</td>\n",
       "      <td>eu, n.america</td>\n",
       "      <td>2020-12-25</td>\n",
       "      <td>2021-01-03</td>\n",
       "    </tr>\n",
       "  </tbody>\n",
       "</table>\n",
       "</div>"
      ],
      "text/plain": [
       "                       name        regions   start_dt  finish_dt\n",
       "0  christmas&new year promo  eu, n.america 2020-12-25 2021-01-03"
      ]
     },
     "metadata": {},
     "output_type": "display_data"
    },
    {
     "name": "stdout",
     "output_type": "stream",
     "text": [
      "None\n"
     ]
    }
   ],
   "source": [
    "print(display(event_x))"
   ]
  },
  {
   "cell_type": "markdown",
   "id": "f7847cdd",
   "metadata": {},
   "source": [
    "Событие не повлияло на изменения в группах."
   ]
  },
  {
   "cell_type": "markdown",
   "id": "7fce8d17",
   "metadata": {},
   "source": [
    "## Конверсия"
   ]
  },
  {
   "cell_type": "markdown",
   "id": "6612f155",
   "metadata": {},
   "source": [
    "Изменение конверсии в выборках на раных этапах."
   ]
  },
  {
   "cell_type": "markdown",
   "id": "3068c98a",
   "metadata": {},
   "source": [
    "Количество событий."
   ]
  },
  {
   "cell_type": "code",
   "execution_count": 42,
   "id": "df22dbee",
   "metadata": {},
   "outputs": [
    {
     "data": {
      "text/plain": [
       "login           9306\n",
       "product_page    5740\n",
       "purchase        2804\n",
       "product_cart    2714\n",
       "Name: event_name, dtype: int64"
      ]
     },
     "execution_count": 42,
     "metadata": {},
     "output_type": "execute_result"
    }
   ],
   "source": [
    "df['event_name'].value_counts()"
   ]
  },
  {
   "cell_type": "markdown",
   "id": "924c2c86",
   "metadata": {},
   "source": [
    "Сначало пользователь совершает \"login\" (вход) затем заходит на \"product_page\"(карту товара), затем идет в корзину (product_cart), и потом совершает покупку (purchase)."
   ]
  },
  {
   "cell_type": "code",
   "execution_count": 44,
   "id": "7e17dff3",
   "metadata": {},
   "outputs": [
    {
     "data": {
      "text/plain": [
       "Index(['user_id', 'event_dt', 'event_name', 'details', 'group', 'first_date',\n",
       "       'region', 'device', 'day'],\n",
       "      dtype='object')"
      ]
     },
     "execution_count": 44,
     "metadata": {},
     "output_type": "execute_result"
    }
   ],
   "source": [
    "df.columns"
   ]
  },
  {
   "cell_type": "code",
   "execution_count": 71,
   "id": "8d79086d",
   "metadata": {},
   "outputs": [
    {
     "data": {
      "text/plain": [
       "event_name\n",
       "login           2279\n",
       "product_page    1476\n",
       "purchase         734\n",
       "product_cart     686\n",
       "Name: user_id, dtype: int64"
      ]
     },
     "execution_count": 71,
     "metadata": {},
     "output_type": "execute_result"
    }
   ],
   "source": [
    "funnela = df.query('group == \"a\"').pivot_table(index=['event_name'], values='user_id', aggfunc='nunique')\\\n",
    "            .sort_values('user_id', ascending=False).user_id\n",
    "funnela"
   ]
  },
  {
   "cell_type": "code",
   "execution_count": 73,
   "id": "aa4e2063",
   "metadata": {},
   "outputs": [
    {
     "data": {
      "text/plain": [
       "event_name\n",
       "login           771\n",
       "product_page    429\n",
       "purchase        219\n",
       "product_cart    214\n",
       "Name: user_id, dtype: int64"
      ]
     },
     "execution_count": 73,
     "metadata": {},
     "output_type": "execute_result"
    }
   ],
   "source": [
    "funnelb = df.query('group == \"b\"').pivot_table(index=['event_name'], values='user_id', aggfunc='nunique')\\\n",
    "            .sort_values('user_id', ascending=False).user_id\n",
    "funnelb"
   ]
  },
  {
   "cell_type": "markdown",
   "id": "59101690",
   "metadata": {},
   "source": [
    "Воронки в группах соблюдаются."
   ]
  },
  {
   "cell_type": "code",
   "execution_count": 72,
   "id": "8b767d54",
   "metadata": {},
   "outputs": [
    {
     "data": {
      "application/vnd.plotly.v1+json": {
       "config": {
        "plotlyServerURL": "https://plot.ly"
       },
       "data": [
        {
         "textinfo": "value+percent initial+percent previous",
         "type": "funnel",
         "x": [
          2279,
          1476,
          734,
          686
         ],
         "y": [
          "login",
          "product_page",
          "purchase",
          "product_cart"
         ]
        }
       ],
       "layout": {
        "template": {
         "data": {
          "bar": [
           {
            "error_x": {
             "color": "#2a3f5f"
            },
            "error_y": {
             "color": "#2a3f5f"
            },
            "marker": {
             "line": {
              "color": "#E5ECF6",
              "width": 0.5
             },
             "pattern": {
              "fillmode": "overlay",
              "size": 10,
              "solidity": 0.2
             }
            },
            "type": "bar"
           }
          ],
          "barpolar": [
           {
            "marker": {
             "line": {
              "color": "#E5ECF6",
              "width": 0.5
             },
             "pattern": {
              "fillmode": "overlay",
              "size": 10,
              "solidity": 0.2
             }
            },
            "type": "barpolar"
           }
          ],
          "carpet": [
           {
            "aaxis": {
             "endlinecolor": "#2a3f5f",
             "gridcolor": "white",
             "linecolor": "white",
             "minorgridcolor": "white",
             "startlinecolor": "#2a3f5f"
            },
            "baxis": {
             "endlinecolor": "#2a3f5f",
             "gridcolor": "white",
             "linecolor": "white",
             "minorgridcolor": "white",
             "startlinecolor": "#2a3f5f"
            },
            "type": "carpet"
           }
          ],
          "choropleth": [
           {
            "colorbar": {
             "outlinewidth": 0,
             "ticks": ""
            },
            "type": "choropleth"
           }
          ],
          "contour": [
           {
            "colorbar": {
             "outlinewidth": 0,
             "ticks": ""
            },
            "colorscale": [
             [
              0,
              "#0d0887"
             ],
             [
              0.1111111111111111,
              "#46039f"
             ],
             [
              0.2222222222222222,
              "#7201a8"
             ],
             [
              0.3333333333333333,
              "#9c179e"
             ],
             [
              0.4444444444444444,
              "#bd3786"
             ],
             [
              0.5555555555555556,
              "#d8576b"
             ],
             [
              0.6666666666666666,
              "#ed7953"
             ],
             [
              0.7777777777777778,
              "#fb9f3a"
             ],
             [
              0.8888888888888888,
              "#fdca26"
             ],
             [
              1,
              "#f0f921"
             ]
            ],
            "type": "contour"
           }
          ],
          "contourcarpet": [
           {
            "colorbar": {
             "outlinewidth": 0,
             "ticks": ""
            },
            "type": "contourcarpet"
           }
          ],
          "heatmap": [
           {
            "colorbar": {
             "outlinewidth": 0,
             "ticks": ""
            },
            "colorscale": [
             [
              0,
              "#0d0887"
             ],
             [
              0.1111111111111111,
              "#46039f"
             ],
             [
              0.2222222222222222,
              "#7201a8"
             ],
             [
              0.3333333333333333,
              "#9c179e"
             ],
             [
              0.4444444444444444,
              "#bd3786"
             ],
             [
              0.5555555555555556,
              "#d8576b"
             ],
             [
              0.6666666666666666,
              "#ed7953"
             ],
             [
              0.7777777777777778,
              "#fb9f3a"
             ],
             [
              0.8888888888888888,
              "#fdca26"
             ],
             [
              1,
              "#f0f921"
             ]
            ],
            "type": "heatmap"
           }
          ],
          "heatmapgl": [
           {
            "colorbar": {
             "outlinewidth": 0,
             "ticks": ""
            },
            "colorscale": [
             [
              0,
              "#0d0887"
             ],
             [
              0.1111111111111111,
              "#46039f"
             ],
             [
              0.2222222222222222,
              "#7201a8"
             ],
             [
              0.3333333333333333,
              "#9c179e"
             ],
             [
              0.4444444444444444,
              "#bd3786"
             ],
             [
              0.5555555555555556,
              "#d8576b"
             ],
             [
              0.6666666666666666,
              "#ed7953"
             ],
             [
              0.7777777777777778,
              "#fb9f3a"
             ],
             [
              0.8888888888888888,
              "#fdca26"
             ],
             [
              1,
              "#f0f921"
             ]
            ],
            "type": "heatmapgl"
           }
          ],
          "histogram": [
           {
            "marker": {
             "pattern": {
              "fillmode": "overlay",
              "size": 10,
              "solidity": 0.2
             }
            },
            "type": "histogram"
           }
          ],
          "histogram2d": [
           {
            "colorbar": {
             "outlinewidth": 0,
             "ticks": ""
            },
            "colorscale": [
             [
              0,
              "#0d0887"
             ],
             [
              0.1111111111111111,
              "#46039f"
             ],
             [
              0.2222222222222222,
              "#7201a8"
             ],
             [
              0.3333333333333333,
              "#9c179e"
             ],
             [
              0.4444444444444444,
              "#bd3786"
             ],
             [
              0.5555555555555556,
              "#d8576b"
             ],
             [
              0.6666666666666666,
              "#ed7953"
             ],
             [
              0.7777777777777778,
              "#fb9f3a"
             ],
             [
              0.8888888888888888,
              "#fdca26"
             ],
             [
              1,
              "#f0f921"
             ]
            ],
            "type": "histogram2d"
           }
          ],
          "histogram2dcontour": [
           {
            "colorbar": {
             "outlinewidth": 0,
             "ticks": ""
            },
            "colorscale": [
             [
              0,
              "#0d0887"
             ],
             [
              0.1111111111111111,
              "#46039f"
             ],
             [
              0.2222222222222222,
              "#7201a8"
             ],
             [
              0.3333333333333333,
              "#9c179e"
             ],
             [
              0.4444444444444444,
              "#bd3786"
             ],
             [
              0.5555555555555556,
              "#d8576b"
             ],
             [
              0.6666666666666666,
              "#ed7953"
             ],
             [
              0.7777777777777778,
              "#fb9f3a"
             ],
             [
              0.8888888888888888,
              "#fdca26"
             ],
             [
              1,
              "#f0f921"
             ]
            ],
            "type": "histogram2dcontour"
           }
          ],
          "mesh3d": [
           {
            "colorbar": {
             "outlinewidth": 0,
             "ticks": ""
            },
            "type": "mesh3d"
           }
          ],
          "parcoords": [
           {
            "line": {
             "colorbar": {
              "outlinewidth": 0,
              "ticks": ""
             }
            },
            "type": "parcoords"
           }
          ],
          "pie": [
           {
            "automargin": true,
            "type": "pie"
           }
          ],
          "scatter": [
           {
            "marker": {
             "colorbar": {
              "outlinewidth": 0,
              "ticks": ""
             }
            },
            "type": "scatter"
           }
          ],
          "scatter3d": [
           {
            "line": {
             "colorbar": {
              "outlinewidth": 0,
              "ticks": ""
             }
            },
            "marker": {
             "colorbar": {
              "outlinewidth": 0,
              "ticks": ""
             }
            },
            "type": "scatter3d"
           }
          ],
          "scattercarpet": [
           {
            "marker": {
             "colorbar": {
              "outlinewidth": 0,
              "ticks": ""
             }
            },
            "type": "scattercarpet"
           }
          ],
          "scattergeo": [
           {
            "marker": {
             "colorbar": {
              "outlinewidth": 0,
              "ticks": ""
             }
            },
            "type": "scattergeo"
           }
          ],
          "scattergl": [
           {
            "marker": {
             "colorbar": {
              "outlinewidth": 0,
              "ticks": ""
             }
            },
            "type": "scattergl"
           }
          ],
          "scattermapbox": [
           {
            "marker": {
             "colorbar": {
              "outlinewidth": 0,
              "ticks": ""
             }
            },
            "type": "scattermapbox"
           }
          ],
          "scatterpolar": [
           {
            "marker": {
             "colorbar": {
              "outlinewidth": 0,
              "ticks": ""
             }
            },
            "type": "scatterpolar"
           }
          ],
          "scatterpolargl": [
           {
            "marker": {
             "colorbar": {
              "outlinewidth": 0,
              "ticks": ""
             }
            },
            "type": "scatterpolargl"
           }
          ],
          "scatterternary": [
           {
            "marker": {
             "colorbar": {
              "outlinewidth": 0,
              "ticks": ""
             }
            },
            "type": "scatterternary"
           }
          ],
          "surface": [
           {
            "colorbar": {
             "outlinewidth": 0,
             "ticks": ""
            },
            "colorscale": [
             [
              0,
              "#0d0887"
             ],
             [
              0.1111111111111111,
              "#46039f"
             ],
             [
              0.2222222222222222,
              "#7201a8"
             ],
             [
              0.3333333333333333,
              "#9c179e"
             ],
             [
              0.4444444444444444,
              "#bd3786"
             ],
             [
              0.5555555555555556,
              "#d8576b"
             ],
             [
              0.6666666666666666,
              "#ed7953"
             ],
             [
              0.7777777777777778,
              "#fb9f3a"
             ],
             [
              0.8888888888888888,
              "#fdca26"
             ],
             [
              1,
              "#f0f921"
             ]
            ],
            "type": "surface"
           }
          ],
          "table": [
           {
            "cells": {
             "fill": {
              "color": "#EBF0F8"
             },
             "line": {
              "color": "white"
             }
            },
            "header": {
             "fill": {
              "color": "#C8D4E3"
             },
             "line": {
              "color": "white"
             }
            },
            "type": "table"
           }
          ]
         },
         "layout": {
          "annotationdefaults": {
           "arrowcolor": "#2a3f5f",
           "arrowhead": 0,
           "arrowwidth": 1
          },
          "autotypenumbers": "strict",
          "coloraxis": {
           "colorbar": {
            "outlinewidth": 0,
            "ticks": ""
           }
          },
          "colorscale": {
           "diverging": [
            [
             0,
             "#8e0152"
            ],
            [
             0.1,
             "#c51b7d"
            ],
            [
             0.2,
             "#de77ae"
            ],
            [
             0.3,
             "#f1b6da"
            ],
            [
             0.4,
             "#fde0ef"
            ],
            [
             0.5,
             "#f7f7f7"
            ],
            [
             0.6,
             "#e6f5d0"
            ],
            [
             0.7,
             "#b8e186"
            ],
            [
             0.8,
             "#7fbc41"
            ],
            [
             0.9,
             "#4d9221"
            ],
            [
             1,
             "#276419"
            ]
           ],
           "sequential": [
            [
             0,
             "#0d0887"
            ],
            [
             0.1111111111111111,
             "#46039f"
            ],
            [
             0.2222222222222222,
             "#7201a8"
            ],
            [
             0.3333333333333333,
             "#9c179e"
            ],
            [
             0.4444444444444444,
             "#bd3786"
            ],
            [
             0.5555555555555556,
             "#d8576b"
            ],
            [
             0.6666666666666666,
             "#ed7953"
            ],
            [
             0.7777777777777778,
             "#fb9f3a"
            ],
            [
             0.8888888888888888,
             "#fdca26"
            ],
            [
             1,
             "#f0f921"
            ]
           ],
           "sequentialminus": [
            [
             0,
             "#0d0887"
            ],
            [
             0.1111111111111111,
             "#46039f"
            ],
            [
             0.2222222222222222,
             "#7201a8"
            ],
            [
             0.3333333333333333,
             "#9c179e"
            ],
            [
             0.4444444444444444,
             "#bd3786"
            ],
            [
             0.5555555555555556,
             "#d8576b"
            ],
            [
             0.6666666666666666,
             "#ed7953"
            ],
            [
             0.7777777777777778,
             "#fb9f3a"
            ],
            [
             0.8888888888888888,
             "#fdca26"
            ],
            [
             1,
             "#f0f921"
            ]
           ]
          },
          "colorway": [
           "#636efa",
           "#EF553B",
           "#00cc96",
           "#ab63fa",
           "#FFA15A",
           "#19d3f3",
           "#FF6692",
           "#B6E880",
           "#FF97FF",
           "#FECB52"
          ],
          "font": {
           "color": "#2a3f5f"
          },
          "geo": {
           "bgcolor": "white",
           "lakecolor": "white",
           "landcolor": "#E5ECF6",
           "showlakes": true,
           "showland": true,
           "subunitcolor": "white"
          },
          "hoverlabel": {
           "align": "left"
          },
          "hovermode": "closest",
          "mapbox": {
           "style": "light"
          },
          "paper_bgcolor": "white",
          "plot_bgcolor": "#E5ECF6",
          "polar": {
           "angularaxis": {
            "gridcolor": "white",
            "linecolor": "white",
            "ticks": ""
           },
           "bgcolor": "#E5ECF6",
           "radialaxis": {
            "gridcolor": "white",
            "linecolor": "white",
            "ticks": ""
           }
          },
          "scene": {
           "xaxis": {
            "backgroundcolor": "#E5ECF6",
            "gridcolor": "white",
            "gridwidth": 2,
            "linecolor": "white",
            "showbackground": true,
            "ticks": "",
            "zerolinecolor": "white"
           },
           "yaxis": {
            "backgroundcolor": "#E5ECF6",
            "gridcolor": "white",
            "gridwidth": 2,
            "linecolor": "white",
            "showbackground": true,
            "ticks": "",
            "zerolinecolor": "white"
           },
           "zaxis": {
            "backgroundcolor": "#E5ECF6",
            "gridcolor": "white",
            "gridwidth": 2,
            "linecolor": "white",
            "showbackground": true,
            "ticks": "",
            "zerolinecolor": "white"
           }
          },
          "shapedefaults": {
           "line": {
            "color": "#2a3f5f"
           }
          },
          "ternary": {
           "aaxis": {
            "gridcolor": "white",
            "linecolor": "white",
            "ticks": ""
           },
           "baxis": {
            "gridcolor": "white",
            "linecolor": "white",
            "ticks": ""
           },
           "bgcolor": "#E5ECF6",
           "caxis": {
            "gridcolor": "white",
            "linecolor": "white",
            "ticks": ""
           }
          },
          "title": {
           "x": 0.05
          },
          "xaxis": {
           "automargin": true,
           "gridcolor": "white",
           "linecolor": "white",
           "ticks": "",
           "title": {
            "standoff": 15
           },
           "zerolinecolor": "white",
           "zerolinewidth": 2
          },
          "yaxis": {
           "automargin": true,
           "gridcolor": "white",
           "linecolor": "white",
           "ticks": "",
           "title": {
            "standoff": 15
           },
           "zerolinecolor": "white",
           "zerolinewidth": 2
          }
         }
        },
        "title": {
         "text": "Воронка конверсии для группы a"
        }
       }
      },
      "text/html": [
       "<div>                            <div id=\"a4e89858-0e38-4c67-8539-1b093d58cb9d\" class=\"plotly-graph-div\" style=\"height:525px; width:100%;\"></div>            <script type=\"text/javascript\">                require([\"plotly\"], function(Plotly) {                    window.PLOTLYENV=window.PLOTLYENV || {};                                    if (document.getElementById(\"a4e89858-0e38-4c67-8539-1b093d58cb9d\")) {                    Plotly.newPlot(                        \"a4e89858-0e38-4c67-8539-1b093d58cb9d\",                        [{\"textinfo\":\"value+percent initial+percent previous\",\"x\":[2279,1476,734,686],\"y\":[\"login\",\"product_page\",\"purchase\",\"product_cart\"],\"type\":\"funnel\"}],                        {\"template\":{\"data\":{\"bar\":[{\"error_x\":{\"color\":\"#2a3f5f\"},\"error_y\":{\"color\":\"#2a3f5f\"},\"marker\":{\"line\":{\"color\":\"#E5ECF6\",\"width\":0.5},\"pattern\":{\"fillmode\":\"overlay\",\"size\":10,\"solidity\":0.2}},\"type\":\"bar\"}],\"barpolar\":[{\"marker\":{\"line\":{\"color\":\"#E5ECF6\",\"width\":0.5},\"pattern\":{\"fillmode\":\"overlay\",\"size\":10,\"solidity\":0.2}},\"type\":\"barpolar\"}],\"carpet\":[{\"aaxis\":{\"endlinecolor\":\"#2a3f5f\",\"gridcolor\":\"white\",\"linecolor\":\"white\",\"minorgridcolor\":\"white\",\"startlinecolor\":\"#2a3f5f\"},\"baxis\":{\"endlinecolor\":\"#2a3f5f\",\"gridcolor\":\"white\",\"linecolor\":\"white\",\"minorgridcolor\":\"white\",\"startlinecolor\":\"#2a3f5f\"},\"type\":\"carpet\"}],\"choropleth\":[{\"colorbar\":{\"outlinewidth\":0,\"ticks\":\"\"},\"type\":\"choropleth\"}],\"contour\":[{\"colorbar\":{\"outlinewidth\":0,\"ticks\":\"\"},\"colorscale\":[[0.0,\"#0d0887\"],[0.1111111111111111,\"#46039f\"],[0.2222222222222222,\"#7201a8\"],[0.3333333333333333,\"#9c179e\"],[0.4444444444444444,\"#bd3786\"],[0.5555555555555556,\"#d8576b\"],[0.6666666666666666,\"#ed7953\"],[0.7777777777777778,\"#fb9f3a\"],[0.8888888888888888,\"#fdca26\"],[1.0,\"#f0f921\"]],\"type\":\"contour\"}],\"contourcarpet\":[{\"colorbar\":{\"outlinewidth\":0,\"ticks\":\"\"},\"type\":\"contourcarpet\"}],\"heatmap\":[{\"colorbar\":{\"outlinewidth\":0,\"ticks\":\"\"},\"colorscale\":[[0.0,\"#0d0887\"],[0.1111111111111111,\"#46039f\"],[0.2222222222222222,\"#7201a8\"],[0.3333333333333333,\"#9c179e\"],[0.4444444444444444,\"#bd3786\"],[0.5555555555555556,\"#d8576b\"],[0.6666666666666666,\"#ed7953\"],[0.7777777777777778,\"#fb9f3a\"],[0.8888888888888888,\"#fdca26\"],[1.0,\"#f0f921\"]],\"type\":\"heatmap\"}],\"heatmapgl\":[{\"colorbar\":{\"outlinewidth\":0,\"ticks\":\"\"},\"colorscale\":[[0.0,\"#0d0887\"],[0.1111111111111111,\"#46039f\"],[0.2222222222222222,\"#7201a8\"],[0.3333333333333333,\"#9c179e\"],[0.4444444444444444,\"#bd3786\"],[0.5555555555555556,\"#d8576b\"],[0.6666666666666666,\"#ed7953\"],[0.7777777777777778,\"#fb9f3a\"],[0.8888888888888888,\"#fdca26\"],[1.0,\"#f0f921\"]],\"type\":\"heatmapgl\"}],\"histogram\":[{\"marker\":{\"pattern\":{\"fillmode\":\"overlay\",\"size\":10,\"solidity\":0.2}},\"type\":\"histogram\"}],\"histogram2d\":[{\"colorbar\":{\"outlinewidth\":0,\"ticks\":\"\"},\"colorscale\":[[0.0,\"#0d0887\"],[0.1111111111111111,\"#46039f\"],[0.2222222222222222,\"#7201a8\"],[0.3333333333333333,\"#9c179e\"],[0.4444444444444444,\"#bd3786\"],[0.5555555555555556,\"#d8576b\"],[0.6666666666666666,\"#ed7953\"],[0.7777777777777778,\"#fb9f3a\"],[0.8888888888888888,\"#fdca26\"],[1.0,\"#f0f921\"]],\"type\":\"histogram2d\"}],\"histogram2dcontour\":[{\"colorbar\":{\"outlinewidth\":0,\"ticks\":\"\"},\"colorscale\":[[0.0,\"#0d0887\"],[0.1111111111111111,\"#46039f\"],[0.2222222222222222,\"#7201a8\"],[0.3333333333333333,\"#9c179e\"],[0.4444444444444444,\"#bd3786\"],[0.5555555555555556,\"#d8576b\"],[0.6666666666666666,\"#ed7953\"],[0.7777777777777778,\"#fb9f3a\"],[0.8888888888888888,\"#fdca26\"],[1.0,\"#f0f921\"]],\"type\":\"histogram2dcontour\"}],\"mesh3d\":[{\"colorbar\":{\"outlinewidth\":0,\"ticks\":\"\"},\"type\":\"mesh3d\"}],\"parcoords\":[{\"line\":{\"colorbar\":{\"outlinewidth\":0,\"ticks\":\"\"}},\"type\":\"parcoords\"}],\"pie\":[{\"automargin\":true,\"type\":\"pie\"}],\"scatter\":[{\"marker\":{\"colorbar\":{\"outlinewidth\":0,\"ticks\":\"\"}},\"type\":\"scatter\"}],\"scatter3d\":[{\"line\":{\"colorbar\":{\"outlinewidth\":0,\"ticks\":\"\"}},\"marker\":{\"colorbar\":{\"outlinewidth\":0,\"ticks\":\"\"}},\"type\":\"scatter3d\"}],\"scattercarpet\":[{\"marker\":{\"colorbar\":{\"outlinewidth\":0,\"ticks\":\"\"}},\"type\":\"scattercarpet\"}],\"scattergeo\":[{\"marker\":{\"colorbar\":{\"outlinewidth\":0,\"ticks\":\"\"}},\"type\":\"scattergeo\"}],\"scattergl\":[{\"marker\":{\"colorbar\":{\"outlinewidth\":0,\"ticks\":\"\"}},\"type\":\"scattergl\"}],\"scattermapbox\":[{\"marker\":{\"colorbar\":{\"outlinewidth\":0,\"ticks\":\"\"}},\"type\":\"scattermapbox\"}],\"scatterpolar\":[{\"marker\":{\"colorbar\":{\"outlinewidth\":0,\"ticks\":\"\"}},\"type\":\"scatterpolar\"}],\"scatterpolargl\":[{\"marker\":{\"colorbar\":{\"outlinewidth\":0,\"ticks\":\"\"}},\"type\":\"scatterpolargl\"}],\"scatterternary\":[{\"marker\":{\"colorbar\":{\"outlinewidth\":0,\"ticks\":\"\"}},\"type\":\"scatterternary\"}],\"surface\":[{\"colorbar\":{\"outlinewidth\":0,\"ticks\":\"\"},\"colorscale\":[[0.0,\"#0d0887\"],[0.1111111111111111,\"#46039f\"],[0.2222222222222222,\"#7201a8\"],[0.3333333333333333,\"#9c179e\"],[0.4444444444444444,\"#bd3786\"],[0.5555555555555556,\"#d8576b\"],[0.6666666666666666,\"#ed7953\"],[0.7777777777777778,\"#fb9f3a\"],[0.8888888888888888,\"#fdca26\"],[1.0,\"#f0f921\"]],\"type\":\"surface\"}],\"table\":[{\"cells\":{\"fill\":{\"color\":\"#EBF0F8\"},\"line\":{\"color\":\"white\"}},\"header\":{\"fill\":{\"color\":\"#C8D4E3\"},\"line\":{\"color\":\"white\"}},\"type\":\"table\"}]},\"layout\":{\"annotationdefaults\":{\"arrowcolor\":\"#2a3f5f\",\"arrowhead\":0,\"arrowwidth\":1},\"autotypenumbers\":\"strict\",\"coloraxis\":{\"colorbar\":{\"outlinewidth\":0,\"ticks\":\"\"}},\"colorscale\":{\"diverging\":[[0,\"#8e0152\"],[0.1,\"#c51b7d\"],[0.2,\"#de77ae\"],[0.3,\"#f1b6da\"],[0.4,\"#fde0ef\"],[0.5,\"#f7f7f7\"],[0.6,\"#e6f5d0\"],[0.7,\"#b8e186\"],[0.8,\"#7fbc41\"],[0.9,\"#4d9221\"],[1,\"#276419\"]],\"sequential\":[[0.0,\"#0d0887\"],[0.1111111111111111,\"#46039f\"],[0.2222222222222222,\"#7201a8\"],[0.3333333333333333,\"#9c179e\"],[0.4444444444444444,\"#bd3786\"],[0.5555555555555556,\"#d8576b\"],[0.6666666666666666,\"#ed7953\"],[0.7777777777777778,\"#fb9f3a\"],[0.8888888888888888,\"#fdca26\"],[1.0,\"#f0f921\"]],\"sequentialminus\":[[0.0,\"#0d0887\"],[0.1111111111111111,\"#46039f\"],[0.2222222222222222,\"#7201a8\"],[0.3333333333333333,\"#9c179e\"],[0.4444444444444444,\"#bd3786\"],[0.5555555555555556,\"#d8576b\"],[0.6666666666666666,\"#ed7953\"],[0.7777777777777778,\"#fb9f3a\"],[0.8888888888888888,\"#fdca26\"],[1.0,\"#f0f921\"]]},\"colorway\":[\"#636efa\",\"#EF553B\",\"#00cc96\",\"#ab63fa\",\"#FFA15A\",\"#19d3f3\",\"#FF6692\",\"#B6E880\",\"#FF97FF\",\"#FECB52\"],\"font\":{\"color\":\"#2a3f5f\"},\"geo\":{\"bgcolor\":\"white\",\"lakecolor\":\"white\",\"landcolor\":\"#E5ECF6\",\"showlakes\":true,\"showland\":true,\"subunitcolor\":\"white\"},\"hoverlabel\":{\"align\":\"left\"},\"hovermode\":\"closest\",\"mapbox\":{\"style\":\"light\"},\"paper_bgcolor\":\"white\",\"plot_bgcolor\":\"#E5ECF6\",\"polar\":{\"angularaxis\":{\"gridcolor\":\"white\",\"linecolor\":\"white\",\"ticks\":\"\"},\"bgcolor\":\"#E5ECF6\",\"radialaxis\":{\"gridcolor\":\"white\",\"linecolor\":\"white\",\"ticks\":\"\"}},\"scene\":{\"xaxis\":{\"backgroundcolor\":\"#E5ECF6\",\"gridcolor\":\"white\",\"gridwidth\":2,\"linecolor\":\"white\",\"showbackground\":true,\"ticks\":\"\",\"zerolinecolor\":\"white\"},\"yaxis\":{\"backgroundcolor\":\"#E5ECF6\",\"gridcolor\":\"white\",\"gridwidth\":2,\"linecolor\":\"white\",\"showbackground\":true,\"ticks\":\"\",\"zerolinecolor\":\"white\"},\"zaxis\":{\"backgroundcolor\":\"#E5ECF6\",\"gridcolor\":\"white\",\"gridwidth\":2,\"linecolor\":\"white\",\"showbackground\":true,\"ticks\":\"\",\"zerolinecolor\":\"white\"}},\"shapedefaults\":{\"line\":{\"color\":\"#2a3f5f\"}},\"ternary\":{\"aaxis\":{\"gridcolor\":\"white\",\"linecolor\":\"white\",\"ticks\":\"\"},\"baxis\":{\"gridcolor\":\"white\",\"linecolor\":\"white\",\"ticks\":\"\"},\"bgcolor\":\"#E5ECF6\",\"caxis\":{\"gridcolor\":\"white\",\"linecolor\":\"white\",\"ticks\":\"\"}},\"title\":{\"x\":0.05},\"xaxis\":{\"automargin\":true,\"gridcolor\":\"white\",\"linecolor\":\"white\",\"ticks\":\"\",\"title\":{\"standoff\":15},\"zerolinecolor\":\"white\",\"zerolinewidth\":2},\"yaxis\":{\"automargin\":true,\"gridcolor\":\"white\",\"linecolor\":\"white\",\"ticks\":\"\",\"title\":{\"standoff\":15},\"zerolinecolor\":\"white\",\"zerolinewidth\":2}}},\"title\":{\"text\":\"\\u0412\\u043e\\u0440\\u043e\\u043d\\u043a\\u0430 \\u043a\\u043e\\u043d\\u0432\\u0435\\u0440\\u0441\\u0438\\u0438 \\u0434\\u043b\\u044f \\u0433\\u0440\\u0443\\u043f\\u043f\\u044b a\"}},                        {\"responsive\": true}                    ).then(function(){\n",
       "                            \n",
       "var gd = document.getElementById('a4e89858-0e38-4c67-8539-1b093d58cb9d');\n",
       "var x = new MutationObserver(function (mutations, observer) {{\n",
       "        var display = window.getComputedStyle(gd).display;\n",
       "        if (!display || display === 'none') {{\n",
       "            console.log([gd, 'removed!']);\n",
       "            Plotly.purge(gd);\n",
       "            observer.disconnect();\n",
       "        }}\n",
       "}});\n",
       "\n",
       "// Listen for the removal of the full notebook cells\n",
       "var notebookContainer = gd.closest('#notebook-container');\n",
       "if (notebookContainer) {{\n",
       "    x.observe(notebookContainer, {childList: true});\n",
       "}}\n",
       "\n",
       "// Listen for the clearing of the current output cell\n",
       "var outputEl = gd.closest('.output');\n",
       "if (outputEl) {{\n",
       "    x.observe(outputEl, {childList: true});\n",
       "}}\n",
       "\n",
       "                        })                };                });            </script>        </div>"
      ]
     },
     "metadata": {},
     "output_type": "display_data"
    }
   ],
   "source": [
    "fig = go.Figure(go.Funnel(y = funnela.index, x = list(funnela.values), textinfo = \"value+percent initial+percent previous\"))\n",
    "fig.update_layout(title=\"Воронка конверсии для группы a\")\n",
    "fig.show();"
   ]
  },
  {
   "cell_type": "code",
   "execution_count": 74,
   "id": "b474f416",
   "metadata": {},
   "outputs": [
    {
     "data": {
      "application/vnd.plotly.v1+json": {
       "config": {
        "plotlyServerURL": "https://plot.ly"
       },
       "data": [
        {
         "textinfo": "value+percent initial+percent previous",
         "type": "funnel",
         "x": [
          771,
          429,
          219,
          214
         ],
         "y": [
          "login",
          "product_page",
          "purchase",
          "product_cart"
         ]
        }
       ],
       "layout": {
        "template": {
         "data": {
          "bar": [
           {
            "error_x": {
             "color": "#2a3f5f"
            },
            "error_y": {
             "color": "#2a3f5f"
            },
            "marker": {
             "line": {
              "color": "#E5ECF6",
              "width": 0.5
             },
             "pattern": {
              "fillmode": "overlay",
              "size": 10,
              "solidity": 0.2
             }
            },
            "type": "bar"
           }
          ],
          "barpolar": [
           {
            "marker": {
             "line": {
              "color": "#E5ECF6",
              "width": 0.5
             },
             "pattern": {
              "fillmode": "overlay",
              "size": 10,
              "solidity": 0.2
             }
            },
            "type": "barpolar"
           }
          ],
          "carpet": [
           {
            "aaxis": {
             "endlinecolor": "#2a3f5f",
             "gridcolor": "white",
             "linecolor": "white",
             "minorgridcolor": "white",
             "startlinecolor": "#2a3f5f"
            },
            "baxis": {
             "endlinecolor": "#2a3f5f",
             "gridcolor": "white",
             "linecolor": "white",
             "minorgridcolor": "white",
             "startlinecolor": "#2a3f5f"
            },
            "type": "carpet"
           }
          ],
          "choropleth": [
           {
            "colorbar": {
             "outlinewidth": 0,
             "ticks": ""
            },
            "type": "choropleth"
           }
          ],
          "contour": [
           {
            "colorbar": {
             "outlinewidth": 0,
             "ticks": ""
            },
            "colorscale": [
             [
              0,
              "#0d0887"
             ],
             [
              0.1111111111111111,
              "#46039f"
             ],
             [
              0.2222222222222222,
              "#7201a8"
             ],
             [
              0.3333333333333333,
              "#9c179e"
             ],
             [
              0.4444444444444444,
              "#bd3786"
             ],
             [
              0.5555555555555556,
              "#d8576b"
             ],
             [
              0.6666666666666666,
              "#ed7953"
             ],
             [
              0.7777777777777778,
              "#fb9f3a"
             ],
             [
              0.8888888888888888,
              "#fdca26"
             ],
             [
              1,
              "#f0f921"
             ]
            ],
            "type": "contour"
           }
          ],
          "contourcarpet": [
           {
            "colorbar": {
             "outlinewidth": 0,
             "ticks": ""
            },
            "type": "contourcarpet"
           }
          ],
          "heatmap": [
           {
            "colorbar": {
             "outlinewidth": 0,
             "ticks": ""
            },
            "colorscale": [
             [
              0,
              "#0d0887"
             ],
             [
              0.1111111111111111,
              "#46039f"
             ],
             [
              0.2222222222222222,
              "#7201a8"
             ],
             [
              0.3333333333333333,
              "#9c179e"
             ],
             [
              0.4444444444444444,
              "#bd3786"
             ],
             [
              0.5555555555555556,
              "#d8576b"
             ],
             [
              0.6666666666666666,
              "#ed7953"
             ],
             [
              0.7777777777777778,
              "#fb9f3a"
             ],
             [
              0.8888888888888888,
              "#fdca26"
             ],
             [
              1,
              "#f0f921"
             ]
            ],
            "type": "heatmap"
           }
          ],
          "heatmapgl": [
           {
            "colorbar": {
             "outlinewidth": 0,
             "ticks": ""
            },
            "colorscale": [
             [
              0,
              "#0d0887"
             ],
             [
              0.1111111111111111,
              "#46039f"
             ],
             [
              0.2222222222222222,
              "#7201a8"
             ],
             [
              0.3333333333333333,
              "#9c179e"
             ],
             [
              0.4444444444444444,
              "#bd3786"
             ],
             [
              0.5555555555555556,
              "#d8576b"
             ],
             [
              0.6666666666666666,
              "#ed7953"
             ],
             [
              0.7777777777777778,
              "#fb9f3a"
             ],
             [
              0.8888888888888888,
              "#fdca26"
             ],
             [
              1,
              "#f0f921"
             ]
            ],
            "type": "heatmapgl"
           }
          ],
          "histogram": [
           {
            "marker": {
             "pattern": {
              "fillmode": "overlay",
              "size": 10,
              "solidity": 0.2
             }
            },
            "type": "histogram"
           }
          ],
          "histogram2d": [
           {
            "colorbar": {
             "outlinewidth": 0,
             "ticks": ""
            },
            "colorscale": [
             [
              0,
              "#0d0887"
             ],
             [
              0.1111111111111111,
              "#46039f"
             ],
             [
              0.2222222222222222,
              "#7201a8"
             ],
             [
              0.3333333333333333,
              "#9c179e"
             ],
             [
              0.4444444444444444,
              "#bd3786"
             ],
             [
              0.5555555555555556,
              "#d8576b"
             ],
             [
              0.6666666666666666,
              "#ed7953"
             ],
             [
              0.7777777777777778,
              "#fb9f3a"
             ],
             [
              0.8888888888888888,
              "#fdca26"
             ],
             [
              1,
              "#f0f921"
             ]
            ],
            "type": "histogram2d"
           }
          ],
          "histogram2dcontour": [
           {
            "colorbar": {
             "outlinewidth": 0,
             "ticks": ""
            },
            "colorscale": [
             [
              0,
              "#0d0887"
             ],
             [
              0.1111111111111111,
              "#46039f"
             ],
             [
              0.2222222222222222,
              "#7201a8"
             ],
             [
              0.3333333333333333,
              "#9c179e"
             ],
             [
              0.4444444444444444,
              "#bd3786"
             ],
             [
              0.5555555555555556,
              "#d8576b"
             ],
             [
              0.6666666666666666,
              "#ed7953"
             ],
             [
              0.7777777777777778,
              "#fb9f3a"
             ],
             [
              0.8888888888888888,
              "#fdca26"
             ],
             [
              1,
              "#f0f921"
             ]
            ],
            "type": "histogram2dcontour"
           }
          ],
          "mesh3d": [
           {
            "colorbar": {
             "outlinewidth": 0,
             "ticks": ""
            },
            "type": "mesh3d"
           }
          ],
          "parcoords": [
           {
            "line": {
             "colorbar": {
              "outlinewidth": 0,
              "ticks": ""
             }
            },
            "type": "parcoords"
           }
          ],
          "pie": [
           {
            "automargin": true,
            "type": "pie"
           }
          ],
          "scatter": [
           {
            "marker": {
             "colorbar": {
              "outlinewidth": 0,
              "ticks": ""
             }
            },
            "type": "scatter"
           }
          ],
          "scatter3d": [
           {
            "line": {
             "colorbar": {
              "outlinewidth": 0,
              "ticks": ""
             }
            },
            "marker": {
             "colorbar": {
              "outlinewidth": 0,
              "ticks": ""
             }
            },
            "type": "scatter3d"
           }
          ],
          "scattercarpet": [
           {
            "marker": {
             "colorbar": {
              "outlinewidth": 0,
              "ticks": ""
             }
            },
            "type": "scattercarpet"
           }
          ],
          "scattergeo": [
           {
            "marker": {
             "colorbar": {
              "outlinewidth": 0,
              "ticks": ""
             }
            },
            "type": "scattergeo"
           }
          ],
          "scattergl": [
           {
            "marker": {
             "colorbar": {
              "outlinewidth": 0,
              "ticks": ""
             }
            },
            "type": "scattergl"
           }
          ],
          "scattermapbox": [
           {
            "marker": {
             "colorbar": {
              "outlinewidth": 0,
              "ticks": ""
             }
            },
            "type": "scattermapbox"
           }
          ],
          "scatterpolar": [
           {
            "marker": {
             "colorbar": {
              "outlinewidth": 0,
              "ticks": ""
             }
            },
            "type": "scatterpolar"
           }
          ],
          "scatterpolargl": [
           {
            "marker": {
             "colorbar": {
              "outlinewidth": 0,
              "ticks": ""
             }
            },
            "type": "scatterpolargl"
           }
          ],
          "scatterternary": [
           {
            "marker": {
             "colorbar": {
              "outlinewidth": 0,
              "ticks": ""
             }
            },
            "type": "scatterternary"
           }
          ],
          "surface": [
           {
            "colorbar": {
             "outlinewidth": 0,
             "ticks": ""
            },
            "colorscale": [
             [
              0,
              "#0d0887"
             ],
             [
              0.1111111111111111,
              "#46039f"
             ],
             [
              0.2222222222222222,
              "#7201a8"
             ],
             [
              0.3333333333333333,
              "#9c179e"
             ],
             [
              0.4444444444444444,
              "#bd3786"
             ],
             [
              0.5555555555555556,
              "#d8576b"
             ],
             [
              0.6666666666666666,
              "#ed7953"
             ],
             [
              0.7777777777777778,
              "#fb9f3a"
             ],
             [
              0.8888888888888888,
              "#fdca26"
             ],
             [
              1,
              "#f0f921"
             ]
            ],
            "type": "surface"
           }
          ],
          "table": [
           {
            "cells": {
             "fill": {
              "color": "#EBF0F8"
             },
             "line": {
              "color": "white"
             }
            },
            "header": {
             "fill": {
              "color": "#C8D4E3"
             },
             "line": {
              "color": "white"
             }
            },
            "type": "table"
           }
          ]
         },
         "layout": {
          "annotationdefaults": {
           "arrowcolor": "#2a3f5f",
           "arrowhead": 0,
           "arrowwidth": 1
          },
          "autotypenumbers": "strict",
          "coloraxis": {
           "colorbar": {
            "outlinewidth": 0,
            "ticks": ""
           }
          },
          "colorscale": {
           "diverging": [
            [
             0,
             "#8e0152"
            ],
            [
             0.1,
             "#c51b7d"
            ],
            [
             0.2,
             "#de77ae"
            ],
            [
             0.3,
             "#f1b6da"
            ],
            [
             0.4,
             "#fde0ef"
            ],
            [
             0.5,
             "#f7f7f7"
            ],
            [
             0.6,
             "#e6f5d0"
            ],
            [
             0.7,
             "#b8e186"
            ],
            [
             0.8,
             "#7fbc41"
            ],
            [
             0.9,
             "#4d9221"
            ],
            [
             1,
             "#276419"
            ]
           ],
           "sequential": [
            [
             0,
             "#0d0887"
            ],
            [
             0.1111111111111111,
             "#46039f"
            ],
            [
             0.2222222222222222,
             "#7201a8"
            ],
            [
             0.3333333333333333,
             "#9c179e"
            ],
            [
             0.4444444444444444,
             "#bd3786"
            ],
            [
             0.5555555555555556,
             "#d8576b"
            ],
            [
             0.6666666666666666,
             "#ed7953"
            ],
            [
             0.7777777777777778,
             "#fb9f3a"
            ],
            [
             0.8888888888888888,
             "#fdca26"
            ],
            [
             1,
             "#f0f921"
            ]
           ],
           "sequentialminus": [
            [
             0,
             "#0d0887"
            ],
            [
             0.1111111111111111,
             "#46039f"
            ],
            [
             0.2222222222222222,
             "#7201a8"
            ],
            [
             0.3333333333333333,
             "#9c179e"
            ],
            [
             0.4444444444444444,
             "#bd3786"
            ],
            [
             0.5555555555555556,
             "#d8576b"
            ],
            [
             0.6666666666666666,
             "#ed7953"
            ],
            [
             0.7777777777777778,
             "#fb9f3a"
            ],
            [
             0.8888888888888888,
             "#fdca26"
            ],
            [
             1,
             "#f0f921"
            ]
           ]
          },
          "colorway": [
           "#636efa",
           "#EF553B",
           "#00cc96",
           "#ab63fa",
           "#FFA15A",
           "#19d3f3",
           "#FF6692",
           "#B6E880",
           "#FF97FF",
           "#FECB52"
          ],
          "font": {
           "color": "#2a3f5f"
          },
          "geo": {
           "bgcolor": "white",
           "lakecolor": "white",
           "landcolor": "#E5ECF6",
           "showlakes": true,
           "showland": true,
           "subunitcolor": "white"
          },
          "hoverlabel": {
           "align": "left"
          },
          "hovermode": "closest",
          "mapbox": {
           "style": "light"
          },
          "paper_bgcolor": "white",
          "plot_bgcolor": "#E5ECF6",
          "polar": {
           "angularaxis": {
            "gridcolor": "white",
            "linecolor": "white",
            "ticks": ""
           },
           "bgcolor": "#E5ECF6",
           "radialaxis": {
            "gridcolor": "white",
            "linecolor": "white",
            "ticks": ""
           }
          },
          "scene": {
           "xaxis": {
            "backgroundcolor": "#E5ECF6",
            "gridcolor": "white",
            "gridwidth": 2,
            "linecolor": "white",
            "showbackground": true,
            "ticks": "",
            "zerolinecolor": "white"
           },
           "yaxis": {
            "backgroundcolor": "#E5ECF6",
            "gridcolor": "white",
            "gridwidth": 2,
            "linecolor": "white",
            "showbackground": true,
            "ticks": "",
            "zerolinecolor": "white"
           },
           "zaxis": {
            "backgroundcolor": "#E5ECF6",
            "gridcolor": "white",
            "gridwidth": 2,
            "linecolor": "white",
            "showbackground": true,
            "ticks": "",
            "zerolinecolor": "white"
           }
          },
          "shapedefaults": {
           "line": {
            "color": "#2a3f5f"
           }
          },
          "ternary": {
           "aaxis": {
            "gridcolor": "white",
            "linecolor": "white",
            "ticks": ""
           },
           "baxis": {
            "gridcolor": "white",
            "linecolor": "white",
            "ticks": ""
           },
           "bgcolor": "#E5ECF6",
           "caxis": {
            "gridcolor": "white",
            "linecolor": "white",
            "ticks": ""
           }
          },
          "title": {
           "x": 0.05
          },
          "xaxis": {
           "automargin": true,
           "gridcolor": "white",
           "linecolor": "white",
           "ticks": "",
           "title": {
            "standoff": 15
           },
           "zerolinecolor": "white",
           "zerolinewidth": 2
          },
          "yaxis": {
           "automargin": true,
           "gridcolor": "white",
           "linecolor": "white",
           "ticks": "",
           "title": {
            "standoff": 15
           },
           "zerolinecolor": "white",
           "zerolinewidth": 2
          }
         }
        },
        "title": {
         "text": "Воронка конверсии для группы b"
        }
       }
      },
      "text/html": [
       "<div>                            <div id=\"c52c703d-8de4-4a7a-9581-a63da808a80e\" class=\"plotly-graph-div\" style=\"height:525px; width:100%;\"></div>            <script type=\"text/javascript\">                require([\"plotly\"], function(Plotly) {                    window.PLOTLYENV=window.PLOTLYENV || {};                                    if (document.getElementById(\"c52c703d-8de4-4a7a-9581-a63da808a80e\")) {                    Plotly.newPlot(                        \"c52c703d-8de4-4a7a-9581-a63da808a80e\",                        [{\"textinfo\":\"value+percent initial+percent previous\",\"x\":[771,429,219,214],\"y\":[\"login\",\"product_page\",\"purchase\",\"product_cart\"],\"type\":\"funnel\"}],                        {\"template\":{\"data\":{\"bar\":[{\"error_x\":{\"color\":\"#2a3f5f\"},\"error_y\":{\"color\":\"#2a3f5f\"},\"marker\":{\"line\":{\"color\":\"#E5ECF6\",\"width\":0.5},\"pattern\":{\"fillmode\":\"overlay\",\"size\":10,\"solidity\":0.2}},\"type\":\"bar\"}],\"barpolar\":[{\"marker\":{\"line\":{\"color\":\"#E5ECF6\",\"width\":0.5},\"pattern\":{\"fillmode\":\"overlay\",\"size\":10,\"solidity\":0.2}},\"type\":\"barpolar\"}],\"carpet\":[{\"aaxis\":{\"endlinecolor\":\"#2a3f5f\",\"gridcolor\":\"white\",\"linecolor\":\"white\",\"minorgridcolor\":\"white\",\"startlinecolor\":\"#2a3f5f\"},\"baxis\":{\"endlinecolor\":\"#2a3f5f\",\"gridcolor\":\"white\",\"linecolor\":\"white\",\"minorgridcolor\":\"white\",\"startlinecolor\":\"#2a3f5f\"},\"type\":\"carpet\"}],\"choropleth\":[{\"colorbar\":{\"outlinewidth\":0,\"ticks\":\"\"},\"type\":\"choropleth\"}],\"contour\":[{\"colorbar\":{\"outlinewidth\":0,\"ticks\":\"\"},\"colorscale\":[[0.0,\"#0d0887\"],[0.1111111111111111,\"#46039f\"],[0.2222222222222222,\"#7201a8\"],[0.3333333333333333,\"#9c179e\"],[0.4444444444444444,\"#bd3786\"],[0.5555555555555556,\"#d8576b\"],[0.6666666666666666,\"#ed7953\"],[0.7777777777777778,\"#fb9f3a\"],[0.8888888888888888,\"#fdca26\"],[1.0,\"#f0f921\"]],\"type\":\"contour\"}],\"contourcarpet\":[{\"colorbar\":{\"outlinewidth\":0,\"ticks\":\"\"},\"type\":\"contourcarpet\"}],\"heatmap\":[{\"colorbar\":{\"outlinewidth\":0,\"ticks\":\"\"},\"colorscale\":[[0.0,\"#0d0887\"],[0.1111111111111111,\"#46039f\"],[0.2222222222222222,\"#7201a8\"],[0.3333333333333333,\"#9c179e\"],[0.4444444444444444,\"#bd3786\"],[0.5555555555555556,\"#d8576b\"],[0.6666666666666666,\"#ed7953\"],[0.7777777777777778,\"#fb9f3a\"],[0.8888888888888888,\"#fdca26\"],[1.0,\"#f0f921\"]],\"type\":\"heatmap\"}],\"heatmapgl\":[{\"colorbar\":{\"outlinewidth\":0,\"ticks\":\"\"},\"colorscale\":[[0.0,\"#0d0887\"],[0.1111111111111111,\"#46039f\"],[0.2222222222222222,\"#7201a8\"],[0.3333333333333333,\"#9c179e\"],[0.4444444444444444,\"#bd3786\"],[0.5555555555555556,\"#d8576b\"],[0.6666666666666666,\"#ed7953\"],[0.7777777777777778,\"#fb9f3a\"],[0.8888888888888888,\"#fdca26\"],[1.0,\"#f0f921\"]],\"type\":\"heatmapgl\"}],\"histogram\":[{\"marker\":{\"pattern\":{\"fillmode\":\"overlay\",\"size\":10,\"solidity\":0.2}},\"type\":\"histogram\"}],\"histogram2d\":[{\"colorbar\":{\"outlinewidth\":0,\"ticks\":\"\"},\"colorscale\":[[0.0,\"#0d0887\"],[0.1111111111111111,\"#46039f\"],[0.2222222222222222,\"#7201a8\"],[0.3333333333333333,\"#9c179e\"],[0.4444444444444444,\"#bd3786\"],[0.5555555555555556,\"#d8576b\"],[0.6666666666666666,\"#ed7953\"],[0.7777777777777778,\"#fb9f3a\"],[0.8888888888888888,\"#fdca26\"],[1.0,\"#f0f921\"]],\"type\":\"histogram2d\"}],\"histogram2dcontour\":[{\"colorbar\":{\"outlinewidth\":0,\"ticks\":\"\"},\"colorscale\":[[0.0,\"#0d0887\"],[0.1111111111111111,\"#46039f\"],[0.2222222222222222,\"#7201a8\"],[0.3333333333333333,\"#9c179e\"],[0.4444444444444444,\"#bd3786\"],[0.5555555555555556,\"#d8576b\"],[0.6666666666666666,\"#ed7953\"],[0.7777777777777778,\"#fb9f3a\"],[0.8888888888888888,\"#fdca26\"],[1.0,\"#f0f921\"]],\"type\":\"histogram2dcontour\"}],\"mesh3d\":[{\"colorbar\":{\"outlinewidth\":0,\"ticks\":\"\"},\"type\":\"mesh3d\"}],\"parcoords\":[{\"line\":{\"colorbar\":{\"outlinewidth\":0,\"ticks\":\"\"}},\"type\":\"parcoords\"}],\"pie\":[{\"automargin\":true,\"type\":\"pie\"}],\"scatter\":[{\"marker\":{\"colorbar\":{\"outlinewidth\":0,\"ticks\":\"\"}},\"type\":\"scatter\"}],\"scatter3d\":[{\"line\":{\"colorbar\":{\"outlinewidth\":0,\"ticks\":\"\"}},\"marker\":{\"colorbar\":{\"outlinewidth\":0,\"ticks\":\"\"}},\"type\":\"scatter3d\"}],\"scattercarpet\":[{\"marker\":{\"colorbar\":{\"outlinewidth\":0,\"ticks\":\"\"}},\"type\":\"scattercarpet\"}],\"scattergeo\":[{\"marker\":{\"colorbar\":{\"outlinewidth\":0,\"ticks\":\"\"}},\"type\":\"scattergeo\"}],\"scattergl\":[{\"marker\":{\"colorbar\":{\"outlinewidth\":0,\"ticks\":\"\"}},\"type\":\"scattergl\"}],\"scattermapbox\":[{\"marker\":{\"colorbar\":{\"outlinewidth\":0,\"ticks\":\"\"}},\"type\":\"scattermapbox\"}],\"scatterpolar\":[{\"marker\":{\"colorbar\":{\"outlinewidth\":0,\"ticks\":\"\"}},\"type\":\"scatterpolar\"}],\"scatterpolargl\":[{\"marker\":{\"colorbar\":{\"outlinewidth\":0,\"ticks\":\"\"}},\"type\":\"scatterpolargl\"}],\"scatterternary\":[{\"marker\":{\"colorbar\":{\"outlinewidth\":0,\"ticks\":\"\"}},\"type\":\"scatterternary\"}],\"surface\":[{\"colorbar\":{\"outlinewidth\":0,\"ticks\":\"\"},\"colorscale\":[[0.0,\"#0d0887\"],[0.1111111111111111,\"#46039f\"],[0.2222222222222222,\"#7201a8\"],[0.3333333333333333,\"#9c179e\"],[0.4444444444444444,\"#bd3786\"],[0.5555555555555556,\"#d8576b\"],[0.6666666666666666,\"#ed7953\"],[0.7777777777777778,\"#fb9f3a\"],[0.8888888888888888,\"#fdca26\"],[1.0,\"#f0f921\"]],\"type\":\"surface\"}],\"table\":[{\"cells\":{\"fill\":{\"color\":\"#EBF0F8\"},\"line\":{\"color\":\"white\"}},\"header\":{\"fill\":{\"color\":\"#C8D4E3\"},\"line\":{\"color\":\"white\"}},\"type\":\"table\"}]},\"layout\":{\"annotationdefaults\":{\"arrowcolor\":\"#2a3f5f\",\"arrowhead\":0,\"arrowwidth\":1},\"autotypenumbers\":\"strict\",\"coloraxis\":{\"colorbar\":{\"outlinewidth\":0,\"ticks\":\"\"}},\"colorscale\":{\"diverging\":[[0,\"#8e0152\"],[0.1,\"#c51b7d\"],[0.2,\"#de77ae\"],[0.3,\"#f1b6da\"],[0.4,\"#fde0ef\"],[0.5,\"#f7f7f7\"],[0.6,\"#e6f5d0\"],[0.7,\"#b8e186\"],[0.8,\"#7fbc41\"],[0.9,\"#4d9221\"],[1,\"#276419\"]],\"sequential\":[[0.0,\"#0d0887\"],[0.1111111111111111,\"#46039f\"],[0.2222222222222222,\"#7201a8\"],[0.3333333333333333,\"#9c179e\"],[0.4444444444444444,\"#bd3786\"],[0.5555555555555556,\"#d8576b\"],[0.6666666666666666,\"#ed7953\"],[0.7777777777777778,\"#fb9f3a\"],[0.8888888888888888,\"#fdca26\"],[1.0,\"#f0f921\"]],\"sequentialminus\":[[0.0,\"#0d0887\"],[0.1111111111111111,\"#46039f\"],[0.2222222222222222,\"#7201a8\"],[0.3333333333333333,\"#9c179e\"],[0.4444444444444444,\"#bd3786\"],[0.5555555555555556,\"#d8576b\"],[0.6666666666666666,\"#ed7953\"],[0.7777777777777778,\"#fb9f3a\"],[0.8888888888888888,\"#fdca26\"],[1.0,\"#f0f921\"]]},\"colorway\":[\"#636efa\",\"#EF553B\",\"#00cc96\",\"#ab63fa\",\"#FFA15A\",\"#19d3f3\",\"#FF6692\",\"#B6E880\",\"#FF97FF\",\"#FECB52\"],\"font\":{\"color\":\"#2a3f5f\"},\"geo\":{\"bgcolor\":\"white\",\"lakecolor\":\"white\",\"landcolor\":\"#E5ECF6\",\"showlakes\":true,\"showland\":true,\"subunitcolor\":\"white\"},\"hoverlabel\":{\"align\":\"left\"},\"hovermode\":\"closest\",\"mapbox\":{\"style\":\"light\"},\"paper_bgcolor\":\"white\",\"plot_bgcolor\":\"#E5ECF6\",\"polar\":{\"angularaxis\":{\"gridcolor\":\"white\",\"linecolor\":\"white\",\"ticks\":\"\"},\"bgcolor\":\"#E5ECF6\",\"radialaxis\":{\"gridcolor\":\"white\",\"linecolor\":\"white\",\"ticks\":\"\"}},\"scene\":{\"xaxis\":{\"backgroundcolor\":\"#E5ECF6\",\"gridcolor\":\"white\",\"gridwidth\":2,\"linecolor\":\"white\",\"showbackground\":true,\"ticks\":\"\",\"zerolinecolor\":\"white\"},\"yaxis\":{\"backgroundcolor\":\"#E5ECF6\",\"gridcolor\":\"white\",\"gridwidth\":2,\"linecolor\":\"white\",\"showbackground\":true,\"ticks\":\"\",\"zerolinecolor\":\"white\"},\"zaxis\":{\"backgroundcolor\":\"#E5ECF6\",\"gridcolor\":\"white\",\"gridwidth\":2,\"linecolor\":\"white\",\"showbackground\":true,\"ticks\":\"\",\"zerolinecolor\":\"white\"}},\"shapedefaults\":{\"line\":{\"color\":\"#2a3f5f\"}},\"ternary\":{\"aaxis\":{\"gridcolor\":\"white\",\"linecolor\":\"white\",\"ticks\":\"\"},\"baxis\":{\"gridcolor\":\"white\",\"linecolor\":\"white\",\"ticks\":\"\"},\"bgcolor\":\"#E5ECF6\",\"caxis\":{\"gridcolor\":\"white\",\"linecolor\":\"white\",\"ticks\":\"\"}},\"title\":{\"x\":0.05},\"xaxis\":{\"automargin\":true,\"gridcolor\":\"white\",\"linecolor\":\"white\",\"ticks\":\"\",\"title\":{\"standoff\":15},\"zerolinecolor\":\"white\",\"zerolinewidth\":2},\"yaxis\":{\"automargin\":true,\"gridcolor\":\"white\",\"linecolor\":\"white\",\"ticks\":\"\",\"title\":{\"standoff\":15},\"zerolinecolor\":\"white\",\"zerolinewidth\":2}}},\"title\":{\"text\":\"\\u0412\\u043e\\u0440\\u043e\\u043d\\u043a\\u0430 \\u043a\\u043e\\u043d\\u0432\\u0435\\u0440\\u0441\\u0438\\u0438 \\u0434\\u043b\\u044f \\u0433\\u0440\\u0443\\u043f\\u043f\\u044b b\"}},                        {\"responsive\": true}                    ).then(function(){\n",
       "                            \n",
       "var gd = document.getElementById('c52c703d-8de4-4a7a-9581-a63da808a80e');\n",
       "var x = new MutationObserver(function (mutations, observer) {{\n",
       "        var display = window.getComputedStyle(gd).display;\n",
       "        if (!display || display === 'none') {{\n",
       "            console.log([gd, 'removed!']);\n",
       "            Plotly.purge(gd);\n",
       "            observer.disconnect();\n",
       "        }}\n",
       "}});\n",
       "\n",
       "// Listen for the removal of the full notebook cells\n",
       "var notebookContainer = gd.closest('#notebook-container');\n",
       "if (notebookContainer) {{\n",
       "    x.observe(notebookContainer, {childList: true});\n",
       "}}\n",
       "\n",
       "// Listen for the clearing of the current output cell\n",
       "var outputEl = gd.closest('.output');\n",
       "if (outputEl) {{\n",
       "    x.observe(outputEl, {childList: true});\n",
       "}}\n",
       "\n",
       "                        })                };                });            </script>        </div>"
      ]
     },
     "metadata": {},
     "output_type": "display_data"
    }
   ],
   "source": [
    "fig = go.Figure(go.Funnel(y = funnelb.index, x = funnelb.values, textinfo = \"value+percent initial+percent previous\"))\n",
    "fig.update_layout(title=\"Воронка конверсии для группы b\")\n",
    "fig.show();"
   ]
  },
  {
   "cell_type": "markdown",
   "id": "2413aea6",
   "metadata": {},
   "source": [
    "Конверсия на этапе страницы с товаром лучше в группе А на 9%.\n",
    "\n",
    "На этапе корзина относительно предыдущего этапа показывает себя лучше группа Б, но относительно изначального числа все равно группа А. Это может быть связано с тем, что на предыдущем этапе в группе Б было потеряно больше пользователей.\n",
    "\n",
    "На этап оплата группа Б показла 98% процентов конверсии относительно предыдущего шага, но это на 5 процента больше, чем группа А. А относительного изначального числа все равно уступает."
   ]
  },
  {
   "cell_type": "markdown",
   "id": "faa2bdf9",
   "metadata": {},
   "source": [
    "## Особенности"
   ]
  },
  {
   "cell_type": "markdown",
   "id": "fb947b8e",
   "metadata": {},
   "source": [
    "Если смотреть на техничекое задания, то отклонение от него в части доля пользовтелей из Европы в задании 15%, в тесте 37%"
   ]
  },
  {
   "cell_type": "code",
   "execution_count": 47,
   "id": "0ccab6a9",
   "metadata": {},
   "outputs": [
    {
     "data": {
      "text/html": [
       "<div>\n",
       "<style scoped>\n",
       "    .dataframe tbody tr th:only-of-type {\n",
       "        vertical-align: middle;\n",
       "    }\n",
       "\n",
       "    .dataframe tbody tr th {\n",
       "        vertical-align: top;\n",
       "    }\n",
       "\n",
       "    .dataframe thead th {\n",
       "        text-align: right;\n",
       "    }\n",
       "</style>\n",
       "<table border=\"1\" class=\"dataframe\">\n",
       "  <thead>\n",
       "    <tr style=\"text-align: right;\">\n",
       "      <th></th>\n",
       "      <th>user_id</th>\n",
       "      <th>user</th>\n",
       "      <th>среднее</th>\n",
       "    </tr>\n",
       "    <tr>\n",
       "      <th>group</th>\n",
       "      <th></th>\n",
       "      <th></th>\n",
       "      <th></th>\n",
       "    </tr>\n",
       "  </thead>\n",
       "  <tbody>\n",
       "    <tr>\n",
       "      <th>a</th>\n",
       "      <td>16154</td>\n",
       "      <td>2279</td>\n",
       "      <td>7.1</td>\n",
       "    </tr>\n",
       "    <tr>\n",
       "      <th>b</th>\n",
       "      <td>4410</td>\n",
       "      <td>771</td>\n",
       "      <td>5.7</td>\n",
       "    </tr>\n",
       "  </tbody>\n",
       "</table>\n",
       "</div>"
      ],
      "text/plain": [
       "       user_id  user  среднее\n",
       "group                        \n",
       "a        16154  2279      7.1\n",
       "b         4410   771      5.7"
      ]
     },
     "execution_count": 47,
     "metadata": {},
     "output_type": "execute_result"
    }
   ],
   "source": [
    "kol"
   ]
  },
  {
   "cell_type": "markdown",
   "id": "3988715c",
   "metadata": {},
   "source": [
    "Количество событий в группах отличается примерно в 7 раз, а количество пользователей примерно в 3 раза."
   ]
  },
  {
   "cell_type": "markdown",
   "id": "fdac77c7",
   "metadata": {},
   "source": [
    "Количество пользователей, у которых не прошло 14 дней с момента регистрации."
   ]
  },
  {
   "cell_type": "code",
   "execution_count": 48,
   "id": "28eb2af5",
   "metadata": {},
   "outputs": [
    {
     "name": "stdout",
     "output_type": "stream",
     "text": [
      "Количество пользователей: 7612\n",
      "% пользователей: 37.0\n"
     ]
    }
   ],
   "source": [
    "print('Количество пользователей:',df.query('first_date >= \"2020-12-18\"').shape[0])\n",
    "print('% пользователей:',round(df.query('first_date >= \"2020-12-18\"').shape[0]/df.shape[0]*100.,1))"
   ]
  },
  {
   "cell_type": "code",
   "execution_count": 49,
   "id": "0e689f8e",
   "metadata": {},
   "outputs": [
    {
     "name": "stdout",
     "output_type": "stream",
     "text": [
      "Количество событий 30.12: 1\n"
     ]
    }
   ],
   "source": [
    "print('Количество событий 30.12:',a.query('day == \"2020-12-30\"').shape[0])"
   ]
  },
  {
   "cell_type": "markdown",
   "id": "e239f9d9",
   "metadata": {},
   "source": [
    "Можно сказать, что у нас данные за 30.12 не полные, и фактически мы располагаем данным по 29.12."
   ]
  },
  {
   "cell_type": "markdown",
   "id": "1c2443d6",
   "metadata": {},
   "source": [
    "# Оценка результата A/B-тестирования"
   ]
  },
  {
   "cell_type": "markdown",
   "id": "341af562",
   "metadata": {},
   "source": [
    "H0: доли уникальных посетителей, побывавших на этапе воронки, одинаковы.\n",
    "\n",
    "H1: между долями уникальных посетителей, побывавших на этапе воронки, есть значимая разница.\n",
    "\n",
    "Альфа-критерий возьмём стандартный 5%."
   ]
  },
  {
   "cell_type": "code",
   "execution_count": 50,
   "id": "a78e3cf6",
   "metadata": {},
   "outputs": [],
   "source": [
    "#Порог значимости\n",
    "alpha = 0.05"
   ]
  },
  {
   "cell_type": "code",
   "execution_count": 51,
   "id": "56a2c56f",
   "metadata": {},
   "outputs": [],
   "source": [
    "#Создадим функцию, которая будет считать статистическую разницу между группами. На вход подаются номера групп и данные.\n",
    "def stat_test(group1, group2):\n",
    "    #df1 с group1\n",
    "    df1 = df.query('group == @group1')\n",
    "    \n",
    "    #df2 с group2\n",
    "    df2 = df.query('group == @group2')\n",
    "    \n",
    "    #количество пользователей в группах\n",
    "    n1 = df1.user_id.nunique()\n",
    "    n2 = df2.user_id.nunique()\n",
    "    \n",
    "    #перебор событий\n",
    "    for i in df.event_name.unique():\n",
    "        if i != 'login':\n",
    "            print(f'\\nРезультат проверки гипотезы между группами {group1} и {group2} для события {i}:')\n",
    "            #число пользователей на данном событии\n",
    "            s1 = df1[df1.event_name == i].user_id.nunique()\n",
    "            s2 = df2[df2.event_name == i].user_id.nunique()\n",
    "        \n",
    "            #доля пользователей, которые совершали событие\n",
    "            d1 = s1 / n1\n",
    "            d2 = s2 / n2\n",
    "        \n",
    "            # пропорция успехов в комбинированном датасете:\n",
    "            p = (s1 + s2) / (n1 + n2)\n",
    "        \n",
    "            #проверка гипотезы о равенстве долей\n",
    "            z = (d1 - d2) / np.sqrt(p * (1 - p) * ((1 / n1) + (1 / n2)))\n",
    "        \n",
    "            # задаем стандартное нормальное распределение (среднее 0, ст.отклонение 1)\n",
    "            distr = stats.norm(0, 1)\n",
    "        \n",
    "            p_value = (1 - distr.cdf(abs(z))) * 2\n",
    "\n",
    "            print('p-значение: ', round(p_value, 5))\n",
    "        \n",
    "            if p_value < alpha:\n",
    "                print('Отвергаем нулевую гипотезу: между группа есть значимая разница')\n",
    "\n",
    "            else:\n",
    "                print('Не получилось отвергнуть нулевую гипотезу, нет оснований считать группы разными')"
   ]
  },
  {
   "cell_type": "code",
   "execution_count": 52,
   "id": "dc11d5f7",
   "metadata": {},
   "outputs": [
    {
     "name": "stdout",
     "output_type": "stream",
     "text": [
      "\n",
      "Результат проверки гипотезы между группами a и b для события purchase:\n",
      "p-значение:  0.04894\n",
      "Отвергаем нулевую гипотезу: между группа есть значимая разница\n",
      "\n",
      "Результат проверки гипотезы между группами a и b для события product_cart:\n",
      "p-значение:  0.21721\n",
      "Не получилось отвергнуть нулевую гипотезу, нет оснований считать группы разными\n",
      "\n",
      "Результат проверки гипотезы между группами a и b для события product_page:\n",
      "p-значение:  1e-05\n",
      "Отвергаем нулевую гипотезу: между группа есть значимая разница\n"
     ]
    }
   ],
   "source": [
    "stat_test(\"a\", \"b\")"
   ]
  },
  {
   "cell_type": "markdown",
   "id": "d5a7ed0b",
   "metadata": {},
   "source": [
    "На этапе product_cart между долями нет значимых статистических различий, а на этапе product_page и purchase есть. Но на этапе purchase погранично, если взять альфу равну 0,01, то уже не будет значимых статистических различий."
   ]
  },
  {
   "cell_type": "markdown",
   "id": "217f76db",
   "metadata": {},
   "source": [
    "# Вывод"
   ]
  },
  {
   "cell_type": "markdown",
   "id": "0c693e67",
   "metadata": {},
   "source": [
    "Проведенно исследования результатов А/Б теста. Проанализированы входные данные.\n",
    "\n",
    "В данных после проведения тест были обнаружены проблемы:\n",
    "- количество пользователей в групаах отличается в 3 раза\n",
    "- количество событий в 7 раза\n",
    "- по факту тест проводился в Еропе\n",
    "- фактически данные по 29.12.20г.\n",
    "\n",
    "Конверсия ожидалось поднять на 15%, но она упала. На этапе страницы с товаром на 9%, на этапе корзина на 4%, а на оплате на 2% относительно изначального количества, но на 5% увеличилось относительно предыдушего шага.\n",
    "\n",
    "**Результаты A/B-тестирования:**\n",
    "\n",
    "На этапе product_cart между долями нет значимых статистических различий, а на этапе product_page и purchase есть. Но на этапе purchase погранично, если взять альфу равну 0,01, то уже не будет значимых статистических различий.\n",
    "\n",
    "**Вывод:**\n",
    "\n",
    "Улучшение рекомендаций для регионов привело к улучшению метрик на этапе product_page. На этапе purchase погранично. На этапе product_cart не привело к улучшению.\n",
    "\n",
    "**Рекомендации:**\n",
    "\n",
    "Необходимо првоести дополнительное исследовани, чтобы понять, что привело к увеличению активности пользователей с 14 декабря по 21 декабря."
   ]
  },
  {
   "cell_type": "code",
   "execution_count": null,
   "id": "4900e655",
   "metadata": {},
   "outputs": [],
   "source": []
  }
 ],
 "metadata": {
  "ExecuteTimeLog": [
   {
    "duration": 1245,
    "start_time": "2023-04-27T14:36:31.323Z"
   },
   {
    "duration": 2607,
    "start_time": "2023-04-27T14:36:32.570Z"
   },
   {
    "duration": 2,
    "start_time": "2023-04-27T14:36:35.179Z"
   },
   {
    "duration": 114,
    "start_time": "2023-04-27T14:36:35.183Z"
   },
   {
    "duration": 117,
    "start_time": "2023-04-27T14:36:35.299Z"
   },
   {
    "duration": 85,
    "start_time": "2023-04-27T14:36:35.418Z"
   },
   {
    "duration": 286,
    "start_time": "2023-04-27T14:36:35.504Z"
   },
   {
    "duration": 24,
    "start_time": "2023-04-27T14:36:35.793Z"
   },
   {
    "duration": 8,
    "start_time": "2023-04-27T14:36:35.818Z"
   },
   {
    "duration": 179,
    "start_time": "2023-04-27T14:36:35.828Z"
   },
   {
    "duration": 17,
    "start_time": "2023-04-27T14:36:36.009Z"
   },
   {
    "duration": 25,
    "start_time": "2023-04-27T14:36:36.028Z"
   },
   {
    "duration": 62,
    "start_time": "2023-04-27T14:36:36.055Z"
   },
   {
    "duration": 50,
    "start_time": "2023-04-27T14:36:36.119Z"
   },
   {
    "duration": 33,
    "start_time": "2023-04-27T14:36:36.170Z"
   },
   {
    "duration": 26,
    "start_time": "2023-04-27T14:36:36.205Z"
   },
   {
    "duration": 62,
    "start_time": "2023-04-27T14:36:36.233Z"
   },
   {
    "duration": 121,
    "start_time": "2023-04-27T14:36:36.296Z"
   },
   {
    "duration": 4,
    "start_time": "2023-04-27T14:36:36.420Z"
   },
   {
    "duration": 40,
    "start_time": "2023-04-27T14:36:36.426Z"
   },
   {
    "duration": 23,
    "start_time": "2023-04-27T14:36:36.467Z"
   },
   {
    "duration": 108,
    "start_time": "2023-04-27T14:36:36.492Z"
   },
   {
    "duration": 4,
    "start_time": "2023-04-27T14:36:36.602Z"
   },
   {
    "duration": 32,
    "start_time": "2023-04-27T14:36:36.608Z"
   },
   {
    "duration": 10,
    "start_time": "2023-04-27T14:36:36.642Z"
   },
   {
    "duration": 4,
    "start_time": "2023-04-27T14:36:36.654Z"
   },
   {
    "duration": 27,
    "start_time": "2023-04-27T14:36:36.659Z"
   },
   {
    "duration": 22,
    "start_time": "2023-04-27T14:36:36.696Z"
   },
   {
    "duration": 48,
    "start_time": "2023-04-27T14:36:36.719Z"
   },
   {
    "duration": 27,
    "start_time": "2023-04-27T14:36:36.768Z"
   },
   {
    "duration": 10,
    "start_time": "2023-04-27T14:36:36.796Z"
   },
   {
    "duration": 25,
    "start_time": "2023-04-27T14:36:36.808Z"
   },
   {
    "duration": 62,
    "start_time": "2023-04-27T14:36:36.834Z"
   },
   {
    "duration": 165,
    "start_time": "2023-04-27T14:36:36.898Z"
   },
   {
    "duration": 82,
    "start_time": "2023-04-27T14:36:37.065Z"
   },
   {
    "duration": 16,
    "start_time": "2023-04-27T14:36:37.148Z"
   },
   {
    "duration": 32,
    "start_time": "2023-04-27T14:36:37.166Z"
   },
   {
    "duration": 408,
    "start_time": "2023-04-27T14:36:37.200Z"
   },
   {
    "duration": 279,
    "start_time": "2023-04-27T14:36:37.610Z"
   },
   {
    "duration": 13,
    "start_time": "2023-04-27T14:36:37.893Z"
   },
   {
    "duration": 10,
    "start_time": "2023-04-27T14:36:37.908Z"
   },
   {
    "duration": 16,
    "start_time": "2023-04-27T14:36:37.919Z"
   },
   {
    "duration": 10,
    "start_time": "2023-04-27T14:36:37.936Z"
   },
   {
    "duration": 4,
    "start_time": "2023-04-27T14:36:37.948Z"
   },
   {
    "duration": 367,
    "start_time": "2023-04-27T14:36:37.953Z"
   },
   {
    "duration": 11,
    "start_time": "2023-04-27T14:36:38.322Z"
   },
   {
    "duration": 13,
    "start_time": "2023-04-27T14:36:38.335Z"
   },
   {
    "duration": 14,
    "start_time": "2023-04-27T14:36:38.350Z"
   },
   {
    "duration": 32,
    "start_time": "2023-04-27T14:36:38.366Z"
   },
   {
    "duration": 10,
    "start_time": "2023-04-27T14:36:38.399Z"
   },
   {
    "duration": 6,
    "start_time": "2023-04-27T14:36:38.411Z"
   },
   {
    "duration": 85,
    "start_time": "2023-04-27T14:36:38.419Z"
   },
   {
    "duration": 1310,
    "start_time": "2023-04-28T17:05:01.290Z"
   },
   {
    "duration": 717,
    "start_time": "2023-04-28T17:05:02.602Z"
   },
   {
    "duration": 3,
    "start_time": "2023-04-28T17:05:03.321Z"
   },
   {
    "duration": 158,
    "start_time": "2023-04-28T17:05:03.327Z"
   },
   {
    "duration": 131,
    "start_time": "2023-04-28T17:05:03.487Z"
   },
   {
    "duration": 87,
    "start_time": "2023-04-28T17:05:03.620Z"
   },
   {
    "duration": 404,
    "start_time": "2023-04-28T17:05:03.709Z"
   },
   {
    "duration": 38,
    "start_time": "2023-04-28T17:05:04.115Z"
   },
   {
    "duration": 9,
    "start_time": "2023-04-28T17:05:04.155Z"
   },
   {
    "duration": 213,
    "start_time": "2023-04-28T17:05:04.185Z"
   },
   {
    "duration": 22,
    "start_time": "2023-04-28T17:05:04.400Z"
   },
   {
    "duration": 10,
    "start_time": "2023-04-28T17:05:04.424Z"
   },
   {
    "duration": 73,
    "start_time": "2023-04-28T17:05:04.436Z"
   },
   {
    "duration": 41,
    "start_time": "2023-04-28T17:05:04.511Z"
   },
   {
    "duration": 50,
    "start_time": "2023-04-28T17:05:04.554Z"
   },
   {
    "duration": 30,
    "start_time": "2023-04-28T17:05:04.606Z"
   },
   {
    "duration": 69,
    "start_time": "2023-04-28T17:05:04.638Z"
   },
   {
    "duration": 150,
    "start_time": "2023-04-28T17:05:04.709Z"
   },
   {
    "duration": 5,
    "start_time": "2023-04-28T17:05:04.861Z"
   },
   {
    "duration": 23,
    "start_time": "2023-04-28T17:05:04.867Z"
   },
   {
    "duration": 5,
    "start_time": "2023-04-28T17:05:04.892Z"
   },
   {
    "duration": 136,
    "start_time": "2023-04-28T17:05:04.898Z"
   },
   {
    "duration": 6,
    "start_time": "2023-04-28T17:05:05.037Z"
   },
   {
    "duration": 9,
    "start_time": "2023-04-28T17:05:05.045Z"
   },
   {
    "duration": 87,
    "start_time": "2023-04-28T17:05:05.056Z"
   },
   {
    "duration": 4,
    "start_time": "2023-04-28T17:05:05.146Z"
   },
   {
    "duration": 43,
    "start_time": "2023-04-28T17:05:05.151Z"
   },
   {
    "duration": 24,
    "start_time": "2023-04-28T17:05:05.198Z"
   },
   {
    "duration": 22,
    "start_time": "2023-04-28T17:05:05.224Z"
   },
   {
    "duration": 40,
    "start_time": "2023-04-28T17:05:05.249Z"
   },
   {
    "duration": 90,
    "start_time": "2023-04-28T17:05:05.291Z"
   },
   {
    "duration": 14,
    "start_time": "2023-04-28T17:05:05.382Z"
   },
   {
    "duration": 12,
    "start_time": "2023-04-28T17:05:05.397Z"
   },
   {
    "duration": 75,
    "start_time": "2023-04-28T17:05:05.411Z"
   },
   {
    "duration": 199,
    "start_time": "2023-04-28T17:05:05.488Z"
   },
   {
    "duration": 99,
    "start_time": "2023-04-28T17:05:05.689Z"
   },
   {
    "duration": 10,
    "start_time": "2023-04-28T17:05:05.790Z"
   },
   {
    "duration": 26,
    "start_time": "2023-04-28T17:05:05.802Z"
   },
   {
    "duration": 503,
    "start_time": "2023-04-28T17:05:05.830Z"
   },
   {
    "duration": 372,
    "start_time": "2023-04-28T17:05:06.336Z"
   },
   {
    "duration": 9,
    "start_time": "2023-04-28T17:05:06.710Z"
   },
   {
    "duration": 28,
    "start_time": "2023-04-28T17:05:06.721Z"
   },
   {
    "duration": 41,
    "start_time": "2023-04-28T17:05:06.750Z"
   },
   {
    "duration": 13,
    "start_time": "2023-04-28T17:05:06.792Z"
   },
   {
    "duration": 370,
    "start_time": "2023-04-28T17:05:06.807Z"
   },
   {
    "duration": 12,
    "start_time": "2023-04-28T17:05:07.180Z"
   },
   {
    "duration": 9,
    "start_time": "2023-04-28T17:05:07.194Z"
   },
   {
    "duration": 16,
    "start_time": "2023-04-28T17:05:07.205Z"
   },
   {
    "duration": 6,
    "start_time": "2023-04-28T17:05:07.223Z"
   },
   {
    "duration": 5,
    "start_time": "2023-04-28T17:05:07.230Z"
   },
   {
    "duration": 8,
    "start_time": "2023-04-28T17:05:07.286Z"
   },
   {
    "duration": 108,
    "start_time": "2023-04-28T17:05:07.296Z"
   },
   {
    "duration": 1179,
    "start_time": "2023-05-02T12:12:59.426Z"
   },
   {
    "duration": 1263,
    "start_time": "2023-05-02T12:13:00.608Z"
   },
   {
    "duration": 3,
    "start_time": "2023-05-02T12:13:01.873Z"
   },
   {
    "duration": 202,
    "start_time": "2023-05-02T12:13:01.880Z"
   },
   {
    "duration": 139,
    "start_time": "2023-05-02T12:13:02.084Z"
   },
   {
    "duration": 110,
    "start_time": "2023-05-02T12:13:02.226Z"
   },
   {
    "duration": 412,
    "start_time": "2023-05-02T12:13:02.338Z"
   },
   {
    "duration": 33,
    "start_time": "2023-05-02T12:13:02.752Z"
   },
   {
    "duration": 5,
    "start_time": "2023-05-02T12:13:02.787Z"
   },
   {
    "duration": 216,
    "start_time": "2023-05-02T12:13:02.795Z"
   },
   {
    "duration": 23,
    "start_time": "2023-05-02T12:13:03.013Z"
   },
   {
    "duration": 37,
    "start_time": "2023-05-02T12:13:03.038Z"
   },
   {
    "duration": 35,
    "start_time": "2023-05-02T12:13:03.077Z"
   },
   {
    "duration": 52,
    "start_time": "2023-05-02T12:13:03.113Z"
   },
   {
    "duration": 32,
    "start_time": "2023-05-02T12:13:03.166Z"
   },
   {
    "duration": 27,
    "start_time": "2023-05-02T12:13:03.200Z"
   },
   {
    "duration": 66,
    "start_time": "2023-05-02T12:13:03.229Z"
   },
   {
    "duration": 195,
    "start_time": "2023-05-02T12:13:03.297Z"
   },
   {
    "duration": 5,
    "start_time": "2023-05-02T12:13:03.494Z"
   },
   {
    "duration": 27,
    "start_time": "2023-05-02T12:13:03.501Z"
   },
   {
    "duration": 10,
    "start_time": "2023-05-02T12:13:03.530Z"
   },
   {
    "duration": 127,
    "start_time": "2023-05-02T12:13:03.542Z"
   },
   {
    "duration": 7,
    "start_time": "2023-05-02T12:13:03.671Z"
   },
   {
    "duration": 21,
    "start_time": "2023-05-02T12:13:03.680Z"
   },
   {
    "duration": 91,
    "start_time": "2023-05-02T12:13:03.703Z"
   },
   {
    "duration": 4,
    "start_time": "2023-05-02T12:13:03.797Z"
   },
   {
    "duration": 26,
    "start_time": "2023-05-02T12:13:03.803Z"
   },
   {
    "duration": 37,
    "start_time": "2023-05-02T12:13:03.856Z"
   },
   {
    "duration": 21,
    "start_time": "2023-05-02T12:13:03.895Z"
   },
   {
    "duration": 12,
    "start_time": "2023-05-02T12:13:03.919Z"
   },
   {
    "duration": 108,
    "start_time": "2023-05-02T12:13:03.933Z"
   },
   {
    "duration": 19,
    "start_time": "2023-05-02T12:13:04.043Z"
   },
   {
    "duration": 21,
    "start_time": "2023-05-02T12:13:04.064Z"
   },
   {
    "duration": 77,
    "start_time": "2023-05-02T12:13:04.086Z"
   },
   {
    "duration": 255,
    "start_time": "2023-05-02T12:13:04.165Z"
   },
   {
    "duration": 142,
    "start_time": "2023-05-02T12:13:04.422Z"
   },
   {
    "duration": 14,
    "start_time": "2023-05-02T12:13:04.565Z"
   },
   {
    "duration": 28,
    "start_time": "2023-05-02T12:13:04.581Z"
   },
   {
    "duration": 563,
    "start_time": "2023-05-02T12:13:04.611Z"
   },
   {
    "duration": 350,
    "start_time": "2023-05-02T12:13:05.175Z"
   },
   {
    "duration": 9,
    "start_time": "2023-05-02T12:13:05.526Z"
   },
   {
    "duration": 28,
    "start_time": "2023-05-02T12:13:05.536Z"
   },
   {
    "duration": 20,
    "start_time": "2023-05-02T12:13:11.816Z"
   },
   {
    "duration": 5,
    "start_time": "2023-05-02T12:13:29.218Z"
   },
   {
    "duration": 110,
    "start_time": "2023-05-02T12:13:37.714Z"
   },
   {
    "duration": 18,
    "start_time": "2023-05-02T12:13:49.725Z"
   },
   {
    "duration": 18,
    "start_time": "2023-05-02T12:14:10.208Z"
   },
   {
    "duration": 19,
    "start_time": "2023-05-02T12:16:50.278Z"
   },
   {
    "duration": 24,
    "start_time": "2023-05-02T12:17:07.390Z"
   },
   {
    "duration": 46,
    "start_time": "2023-05-02T12:17:30.480Z"
   },
   {
    "duration": 30,
    "start_time": "2023-05-02T12:18:28.679Z"
   },
   {
    "duration": 5,
    "start_time": "2023-05-02T12:19:05.288Z"
   },
   {
    "duration": 34,
    "start_time": "2023-05-02T12:19:24.083Z"
   },
   {
    "duration": 4,
    "start_time": "2023-05-02T12:19:28.509Z"
   },
   {
    "duration": 46,
    "start_time": "2023-05-02T12:20:25.014Z"
   },
   {
    "duration": 30,
    "start_time": "2023-05-02T12:20:37.403Z"
   },
   {
    "duration": 5,
    "start_time": "2023-05-02T12:20:42.335Z"
   },
   {
    "duration": 178,
    "start_time": "2023-05-02T12:20:46.718Z"
   },
   {
    "duration": 18,
    "start_time": "2023-05-02T12:21:00.857Z"
   },
   {
    "duration": 11,
    "start_time": "2023-05-02T12:21:04.518Z"
   },
   {
    "duration": 12,
    "start_time": "2023-05-02T12:21:09.884Z"
   },
   {
    "duration": 6,
    "start_time": "2023-05-02T12:21:30.177Z"
   },
   {
    "duration": 4,
    "start_time": "2023-05-02T12:22:26.711Z"
   },
   {
    "duration": 10,
    "start_time": "2023-05-02T12:22:44.278Z"
   },
   {
    "duration": 905,
    "start_time": "2023-05-02T12:23:06.222Z"
   },
   {
    "duration": 16,
    "start_time": "2023-05-02T12:23:17.078Z"
   },
   {
    "duration": 45,
    "start_time": "2023-05-02T12:23:21.839Z"
   },
   {
    "duration": 13,
    "start_time": "2023-05-02T12:23:24.922Z"
   },
   {
    "duration": 4,
    "start_time": "2023-05-02T12:23:37.620Z"
   },
   {
    "duration": 28,
    "start_time": "2023-05-02T12:23:58.770Z"
   },
   {
    "duration": 26,
    "start_time": "2023-05-02T12:24:18.774Z"
   },
   {
    "duration": 10,
    "start_time": "2023-05-02T12:24:22.580Z"
   },
   {
    "duration": 18,
    "start_time": "2023-05-02T12:25:00.481Z"
   },
   {
    "duration": 9,
    "start_time": "2023-05-02T12:25:06.911Z"
   }
  ],
  "hide_input": false,
  "kernelspec": {
   "display_name": "Python 3 (ipykernel)",
   "language": "python",
   "name": "python3"
  },
  "language_info": {
   "codemirror_mode": {
    "name": "ipython",
    "version": 3
   },
   "file_extension": ".py",
   "mimetype": "text/x-python",
   "name": "python",
   "nbconvert_exporter": "python",
   "pygments_lexer": "ipython3",
   "version": "3.9.5"
  },
  "toc": {
   "base_numbering": 1,
   "nav_menu": {},
   "number_sections": true,
   "sideBar": true,
   "skip_h1_title": false,
   "title_cell": "A/B-тестирование",
   "title_sidebar": "Contents",
   "toc_cell": true,
   "toc_position": {
    "height": "689.333px",
    "left": "40px",
    "top": "138px",
    "width": "189.25px"
   },
   "toc_section_display": true,
   "toc_window_display": true
  }
 },
 "nbformat": 4,
 "nbformat_minor": 5
}
