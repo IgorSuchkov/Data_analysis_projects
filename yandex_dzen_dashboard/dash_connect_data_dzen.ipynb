{
 "cells": [
  {
   "cell_type": "markdown",
   "id": "782bf3ef",
   "metadata": {
    "toc": true
   },
   "source": [
    "<h1> Дашборд для Яндекс.Дзен<span class=\"tocSkip\"></span></h1>\n",
    "<div class=\"toc\"><ul class=\"toc-item\"><li><span><a href=\"#Описание\" data-toc-modified-id=\"Описание-1\"><span class=\"toc-item-num\">1&nbsp;&nbsp;</span>Описание</a></span></li><li><span><a href=\"#Подготовка-данных\" data-toc-modified-id=\"Подготовка-данных-2\"><span class=\"toc-item-num\">2&nbsp;&nbsp;</span>Подготовка данных</a></span></li><li><span><a href=\"#Ссылка-на-дашборд\" data-toc-modified-id=\"Ссылка-на-дашборд-3\"><span class=\"toc-item-num\">3&nbsp;&nbsp;</span>Ссылка на дашборд</a></span></li><li><span><a href=\"#Ссылка-на-презентацию\" data-toc-modified-id=\"Ссылка-на-презентацию-4\"><span class=\"toc-item-num\">4&nbsp;&nbsp;</span>Ссылка на презентацию</a></span></li><li><span><a href=\"#Вывод\" data-toc-modified-id=\"Вывод-5\"><span class=\"toc-item-num\">5&nbsp;&nbsp;</span>Вывод</a></span></li></ul></div>"
   ]
  },
  {
   "cell_type": "markdown",
   "id": "e6051eac",
   "metadata": {},
   "source": [
    "# Описание"
   ]
  },
  {
   "cell_type": "markdown",
   "id": "ef58263b",
   "metadata": {},
   "source": [
    "Основная цель проекта заключается в построении дашборда для анализ взаимодействия пользователей с карточками статей. Проект делается на основе запроса менеджеров по анализу контента, которые так же являются потенциальными пользователями дашборда. Пользователи дашборда планируют обращаться к нему не реже, чем раз в неделю. Проект ставит своей целью ответ на вопросы:\n",
    "\n",
    "- Сколько взаимодействий пользователей с карточками происходит в системе с разбивкой по темам карточек?\n",
    "- Как много карточек генерируют источники с разными темами?\n",
    "- Как соотносятся темы карточек и темы источников?\n",
    "\n",
    "Пользователи разбиты на разные возрастные группы."
   ]
  },
  {
   "cell_type": "markdown",
   "id": "a8c5cb61",
   "metadata": {},
   "source": [
    "Планируемый состав данных для дашборда:\n",
    "\n",
    "- История событий по темам карточек (два графика - абсолютные числа и процентное соотношение);\n",
    "- Разбивка событий по темам источников;\n",
    "- Таблица соответствия тем источников темам карточек;\n",
    "\n",
    "Данные будут группироваться по параметрам:\n",
    "\n",
    "- Дата и время;\n",
    "- Тема карточки;\n",
    "- Тема источника;\n",
    "- Возрастная группа;\n",
    "\n",
    "Характер данных:\n",
    "\n",
    "- История событий по темам карточек — абсолютные величины с разбивкой по минутам;\n",
    "- Разбивка событий по темам источников — относительные величины (% событий);\n",
    "- Соответствия тем источников темам карточек - абсолютные величины;\n",
    "- Все графики имеют одинаковую важность.\n",
    "\n",
    "Частота обновления данных: один раз в сутки, в полночь по UTC;\n",
    "\n",
    "Дополнительная информация, по способам взаимодействия пользователей с системой:\n",
    "\n",
    "- Карточка отображена для пользователя (show);\n",
    "- Пользователь кликнул на карточку (click);\n",
    "- Пользователь просмотрел статью карточки (view)."
   ]
  },
  {
   "cell_type": "markdown",
   "id": "e9c030e1",
   "metadata": {},
   "source": [
    "# Подготовка данных"
   ]
  },
  {
   "cell_type": "code",
   "execution_count": 2,
   "id": "6338496f",
   "metadata": {},
   "outputs": [],
   "source": [
    "# импортируем библиотеки\n",
    "import pandas as pd\n",
    "from sqlalchemy import create_engine"
   ]
  },
  {
   "cell_type": "code",
   "execution_count": 3,
   "id": "a01dadc8",
   "metadata": {},
   "outputs": [],
   "source": [
    "#!/usr/bin/python\n",
    "# -*- coding: utf-8 -*-\n",
    "\n",
    "db_config = {'user': 'praktikum_student', # имя пользователя\n",
    "            'pwd': 'Sdf4$2;d-d30pp', # пароль\n",
    "            'host': 'rc1b-wcoijxj3yxfsf3fs.mdb.yandexcloud.net',\n",
    "            'port': 6432, # порт подключения\n",
    "            'db': 'data-analyst-zen-project-db'} # название базы данных\n",
    "\n",
    "connection_string = 'postgresql://{}:{}@{}:{}/{}'.format(db_config['user'],\n",
    "                                                db_config['pwd'],\n",
    "                                                db_config['host'],\n",
    "                                                db_config['port'],\n",
    "                                                db_config['db'])\n",
    "\n",
    "engine = create_engine(connection_string)"
   ]
  },
  {
   "cell_type": "code",
   "execution_count": 4,
   "id": "52cb3eb7",
   "metadata": {},
   "outputs": [
    {
     "name": "stdout",
     "output_type": "stream",
     "text": [
      "   record_id item_topic source_topic age_segment                  dt  visits\n",
      "0    1040597     Деньги         Авто       18-25 2019-09-24 18:32:00       3\n",
      "1    1040598     Деньги         Авто       18-25 2019-09-24 18:35:00       1\n",
      "2    1040599     Деньги         Авто       18-25 2019-09-24 18:54:00       4\n",
      "3    1040600     Деньги         Авто       18-25 2019-09-24 18:55:00      17\n",
      "4    1040601     Деньги         Авто       18-25 2019-09-24 18:56:00      27\n"
     ]
    }
   ],
   "source": [
    "query = ''' SELECT *\n",
    "            FROM dash_visits\n",
    "        '''\n",
    "\n",
    "data_raw = pd.io.sql.read_sql(query, con = engine) \n",
    "\n",
    "print(data_raw.head(5))"
   ]
  },
  {
   "cell_type": "markdown",
   "id": "dbc35505",
   "metadata": {},
   "source": [
    "Записываем таблицу в файл."
   ]
  },
  {
   "cell_type": "code",
   "execution_count": 6,
   "id": "b9db1d91",
   "metadata": {},
   "outputs": [],
   "source": [
    "data_raw.to_csv(\"D:\\IT\\python\\yandex\\DA\\poject\\sprint_dash\\dash_visits.csv\")"
   ]
  },
  {
   "cell_type": "markdown",
   "id": "cd896e62",
   "metadata": {},
   "source": [
    "# Ссылка на дашборд"
   ]
  },
  {
   "cell_type": "markdown",
   "id": "e30152c0",
   "metadata": {},
   "source": [
    "https://public.tableau.com/app/profile/igor.suchkov/viz/suchkov_dash_dzen/Dashboard?publish=yes"
   ]
  },
  {
   "cell_type": "markdown",
   "id": "92d6b058",
   "metadata": {},
   "source": [
    "# Ссылка на презентацию"
   ]
  },
  {
   "cell_type": "markdown",
   "id": "213ff9b6",
   "metadata": {},
   "source": [
    "https://disk.yandex.ru/i/MWYXmglj_9aZ0w"
   ]
  },
  {
   "cell_type": "markdown",
   "id": "b26ef072",
   "metadata": {},
   "source": [
    "# Вывод"
   ]
  },
  {
   "cell_type": "markdown",
   "id": "fde3392a",
   "metadata": {},
   "source": [
    "Cколько взаимодействий пользователей с карточками происходит в системе с разбивкой по темам карточек?\n",
    "\n",
    "Наиболее популярными топиками являются:\n",
    "\n",
    "- Наука - 4372\n",
    "- Отношения- 4145\n",
    "- Интересные факты - 3910\n",
    "- Наиболее актвиные пользователи в возрасте от 18 до 25 лет. Чем старше пользователи, тем они менее активны.\n",
    "\n",
    "Как много карточек генерируют источники с разными темами?\n",
    "\n",
    "- Источники генерируют от 0 до около 60000 карточек с разбивкой по темам.\n",
    "\n",
    "Как соотносятся темы карточек и темы источников?\n",
    "\n",
    "- Самая популярная тема источник – путешествия по карточке рассказы."
   ]
  },
  {
   "cell_type": "code",
   "execution_count": null,
   "id": "8ce92de3",
   "metadata": {},
   "outputs": [],
   "source": []
  }
 ],
 "metadata": {
  "hide_input": false,
  "kernelspec": {
   "display_name": "Python 3",
   "language": "python",
   "name": "python3"
  },
  "language_info": {
   "codemirror_mode": {
    "name": "ipython",
    "version": 3
   },
   "file_extension": ".py",
   "mimetype": "text/x-python",
   "name": "python",
   "nbconvert_exporter": "python",
   "pygments_lexer": "ipython3",
   "version": "3.8.8"
  },
  "toc": {
   "base_numbering": 1,
   "nav_menu": {},
   "number_sections": true,
   "sideBar": true,
   "skip_h1_title": false,
   "title_cell": " Дашборд для Яндекс.Дзен",
   "title_sidebar": "Contents",
   "toc_cell": true,
   "toc_position": {
    "height": "689.333px",
    "left": "32px",
    "top": "-0.375px",
    "width": "364.25px"
   },
   "toc_section_display": true,
   "toc_window_display": true
  }
 },
 "nbformat": 4,
 "nbformat_minor": 5
}
